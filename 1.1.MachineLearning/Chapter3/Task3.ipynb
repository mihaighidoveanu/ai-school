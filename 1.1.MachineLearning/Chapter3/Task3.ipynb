{
  "nbformat": 4,
  "nbformat_minor": 0,
  "metadata": {
    "colab": {
      "name": "Proiect3MihaiGhidoveanu.ipynb",
      "version": "0.3.2",
      "provenance": [],
      "collapsed_sections": [
        "tRPTrbNuwBhF",
        "4be2xaZtxIgF",
        "kSgG3x7_wzWj"
      ]
    },
    "kernelspec": {
      "name": "python3",
      "display_name": "Python 3"
    },
    "accelerator": "GPU"
  },
  "cells": [
    {
      "metadata": {
        "id": "gjr5t23JZAlL",
        "colab_type": "code",
        "colab": {}
      },
      "cell_type": "code",
      "source": [
        "%reload_ext autoreload\n",
        "%autoreload 2\n",
        "%matplotlib inline\n",
        "\n",
        "# enable outputs \n",
        "from IPython.core.interactiveshell import InteractiveShell\n",
        "InteractiveShell.ast_node_interactivity = \"all\"\n",
        "\n",
        "import numpy as np\n",
        "import matplotlib.pyplot as plt\n",
        "import tensorflow as tf\n",
        "from tensorflow import keras"
      ],
      "execution_count": 0,
      "outputs": []
    },
    {
      "metadata": {
        "id": "5xfp5KTUN1hD",
        "colab_type": "code",
        "outputId": "c33e4654-6d4b-47ee-9fc2-620ded9eabad",
        "colab": {
          "resources": {
            "http://localhost:8080/nbextensions/google.colab/files.js": {
              "data": "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",
              "ok": true,
              "headers": [
                [
                  "content-type",
                  "application/javascript"
                ]
              ],
              "status": 200,
              "status_text": ""
            }
          },
          "base_uri": "https://localhost:8080/",
          "height": 109
        }
      },
      "cell_type": "code",
      "source": [
        "from google.colab import files\n",
        "# upload data_generator file\n",
        "files.upload()\n"
      ],
      "execution_count": 2,
      "outputs": [
        {
          "output_type": "display_data",
          "data": {
            "text/html": [
              "\n",
              "     <input type=\"file\" id=\"files-ca8c87e5-490e-42b9-9939-d7d65611ae48\" name=\"files[]\" multiple disabled />\n",
              "     <output id=\"result-ca8c87e5-490e-42b9-9939-d7d65611ae48\">\n",
              "      Upload widget is only available when the cell has been executed in the\n",
              "      current browser session. Please rerun this cell to enable.\n",
              "      </output>\n",
              "      <script src=\"/nbextensions/google.colab/files.js\"></script> "
            ],
            "text/plain": [
              "<IPython.core.display.HTML object>"
            ]
          },
          "metadata": {
            "tags": []
          }
        },
        {
          "output_type": "stream",
          "text": [
            "Saving data_generator.py to data_generator (1).py\n"
          ],
          "name": "stdout"
        },
        {
          "output_type": "execute_result",
          "data": {
            "text/plain": [
              "{'data_generator.py': b'import random\\nimport cv2\\nimport numpy as np\\n\\nfrom imgaug import augmenters as iaa\\nfrom tensorflow.keras import datasets\\n\\n\\n(x_train, y_train), (x_test, y_test) = datasets.mnist.load_data()\\n\\n\\ndef sometimes(aug): return iaa.Sometimes(0.5, aug)\\n\\n\\nseq = iaa.Sequential([\\n    iaa.Affine(\\n        scale={\"x\": (0.8, 1), \"y\": (0.8, 1)},\\n        translate_percent={\"x\": (-0.1, 0.1), \"y\": (-0.1, 0.1)},\\n        rotate=(-15, 15),\\n        shear=(-5, 5),\\n        cval=(0, 0),\\n        mode=\\'constant\\'\\n    )\\n])\\n\\n\\ndef crop_number(number):\\n    \"\"\"\\n        Crops a MNIST digit to its containing bounding box with some random noise.\\n    \"\"\"\\n    vsum = np.sum(number, axis=0)\\n    vsum[vsum > 0] = 1\\n    vdif = np.diff(vsum)\\n    vdif[vdif > 0] = 1\\n    xs = np.argwhere(vdif > 0).ravel()\\n\\n    random_cut1 = np.random.randint(-1, 3)\\n    random_cut2 = np.random.randint(-1, 3)\\n\\n    try:\\n        cropped_number = number[0:28, xs[0] - random_cut1:xs[1] + random_cut2]\\n    except:\\n        cropped_number = number\\n\\n    return cropped_number\\n\\n\\ndef pad_image(number, target_shape=(28, 84)):\\n    \"\"\"\\n        Makes all images the same shape\\n    \"\"\"\\n    _shape = number.shape\\n\\n    height_pad = (-_shape[0] + target_shape[0]) // 2\\n    width_pad = (-_shape[1] + target_shape[1]) // 2\\n\\n    padded = cv2.copyMakeBorder(number,\\n                                height_pad,\\n                                height_pad,\\n                                width_pad + int(_shape[1] % 2 == 1),\\n                                width_pad,\\n                                cv2.BORDER_CONSTANT,\\n                                value=0)\\n    return padded\\n\\n\\ndef generate_images(data_x, data_y, batch_size, length=255):\\n    \"\"\"\\n        Generates images containing numbers from MNIST with random translations.\\n    \"\"\"\\n\\n    while True:\\n\\n        x_batch = []\\n        y_numbers_batch = []\\n        y_results = []\\n\\n        for _ in range(batch_size):\\n            x = [np.zeros((28, 0)), np.zeros((28, 0))]\\n            y_numbers = []\\n\\n            for num in range(2):\\n                random_num = random.randrange(length)\\n                decimal = str(random_num)\\n\\n                y_numbers.append(np.array([random_num]))\\n\\n                for digit in decimal:\\n                    numbers = np.argwhere(data_y == int(digit))\\n                    loc = np.random.choice(numbers.ravel(), 1)\\n                    number = np.squeeze(data_x[loc])\\n                    augmented_number = seq.augment_images([number])[0]\\n\\n                    cropped_number = crop_number(augmented_number)\\n                    x[num] = np.hstack((x[num], cropped_number))\\n                x[num] = pad_image(x[num])\\n\\n            x_batch.append(x)\\n            y_numbers_batch.append(y_numbers)\\n            y_results.append(y_numbers[-1] + y_numbers[-2])\\n\\n        yield np.array(x_batch), np.squeeze(np.array(y_numbers_batch)), np.array(y_results)\\n\\n\\ndef training_generator(batch_size=32):\\n    \"\"\"\\n        Use this function to generate training samples. Images are generated using the training set of MNIST.\\n        Example usage:\\n\\n        generator = training_generator(batch_size=8) # batch size of 8\\n\\n        x, numbers, numbers_sum = next(generator)\\n\\n        # x.shape == (8, 2, 28, 84)     # 8 pairs of images with height 28px and width 84px\\n        # numbers.shape == (8, 2)       # 8 pairs of numbers corresponding to the images\\n        # numbers_sum.shape == (8, 1)   # 8 numbers that represent the sum of the numbers from the images\\n\\n    \"\"\"\\n    return generate_images(x_train, y_train, batch_size)\\n\\n\\ndef test_generator(batch_size=32):\\n    \"\"\"\\n        Use this function to generate test samples. Images are generated using the test set of MNIST.\\n        Example usage:\\n\\n        generator = test_generator(batch_size=8) # batch size of 8\\n\\n        x, numbers, numbers_sum = next(generator)\\n\\n        # x.shape == (8, 2, 28, 84)     # 8 pairs of images with height 28px and width 84px\\n        # numbers.shape == (8, 2)       # 8 pairs of numbers corresponding to the images\\n        # numbers_sum.shape == (8, 1)   # 8 numbers that represent the sum of the numbers from the images\\n\\n    \"\"\"\\n    return generate_images(x_test, y_test, batch_size)\\n'}"
            ]
          },
          "metadata": {
            "tags": []
          },
          "execution_count": 2
        }
      ]
    },
    {
      "metadata": {
        "id": "twD3XRY_rX4x",
        "colab_type": "text"
      },
      "cell_type": "markdown",
      "source": [
        "# Number classification\n",
        "\n",
        "For our first task, we will build a **CNN** that will learn to identify which number appears in a image\n",
        "\n",
        "## Data at hand\n",
        "Our dataset was created by applying random transformations to digit images in MNIST database , concatenating them and afterwards padding the final image. \n",
        "The results consist of images of maximum three digit numbers, ranging from **0 to 255**. Each image is **28x84** and has 1 channel of colour, grayscale.\n",
        "\n",
        "Our dataset is created on demand as explained above by two generator functions, *training_generator* and *test_generator*. These generator functions return a pair of images as described above, a pair of labels with the numbers in the images, and a label with the sum of these numbers.\n",
        "\n",
        "## Input preprocessing\n",
        "\n",
        "We create a wrapper for the given generator and unfold the pair of images and the pair of corresponding labels into an array of images and an array of labels. We will also normalize pixels by *dividing each of the pixel value by 255*.\n",
        "\n",
        "## To generate or not to generate\n",
        "\n",
        "Generators enable us to **train** and **evaluate** our model by not loading all data into memory. But this will increase fitting and testing times. \n",
        "\n",
        "This notebook ran in a *Google Colab* environment, that managed our workload well.  **60000  training samples**  and **6000 testing samples** were used."
      ]
    },
    {
      "metadata": {
        "id": "G4AVE_7zRExP",
        "colab_type": "code",
        "colab": {}
      },
      "cell_type": "code",
      "source": [
        "# define generator wrapper and function to generate data based on a generator\n",
        "from data_generator import training_generator, test_generator\n",
        "\n",
        "# unpack array of pairs of images into an array\n",
        "def seq_gen(generator, batch_size = 32):\n",
        "  # a sample in generator will create pairs of two numbers.\n",
        "  # So we halve the test size\n",
        "  for batch in generator(batch_size // 2):\n",
        "    x_new_batch = []\n",
        "    y_new_batch = []\n",
        "    x_batch , y_batch, sum_batch = batch\n",
        "    for x_sample in x_batch:\n",
        "      x_new_batch.append(x_sample[0])\n",
        "      x_new_batch.append(x_sample[1])\n",
        "    for y_sample in y_batch:\n",
        "      y_new_batch.append(y_sample[0])\n",
        "      y_new_batch.append(y_sample[1])\n",
        "    yield (np.array(x_new_batch), np.array(y_new_batch), sum_batch)\n",
        " \n",
        "#function to extract a batch from generator\n",
        "def generate_data(generator):\n",
        "  x_samples = []\n",
        "  y_samples = []\n",
        "  x_samples, y_samples, sum_samples = next(generator)\n",
        "  x_samples = x_samples / 255.0\n",
        "  x_samples = np.expand_dims(x_samples, -1)\n",
        "  return x_samples, y_samples, sum_samples\n",
        "\n",
        "    "
      ],
      "execution_count": 0,
      "outputs": []
    },
    {
      "metadata": {
        "id": "Dgm1fz5vvTji",
        "colab_type": "code",
        "colab": {
          "base_uri": "https://localhost:8080/",
          "height": 51
        },
        "outputId": "14fbb516-039b-4c32-bffe-50db0ebca0f3"
      },
      "cell_type": "code",
      "source": [
        "%%time\n",
        "train_size = 60000\n",
        "test_size = 6000\n",
        "seq_train_gen = seq_gen(training_generator, train_size)\n",
        "X_train, Y_train, _ = generate_data(seq_train_gen)\n",
        "seq_test_gen = seq_gen(test_generator, test_size)\n",
        "X_test, Y_test, _ = generate_data(seq_train_gen)\n"
      ],
      "execution_count": 157,
      "outputs": [
        {
          "output_type": "stream",
          "text": [
            "CPU times: user 4min 30s, sys: 528 ms, total: 4min 31s\n",
            "Wall time: 4min 31s\n"
          ],
          "name": "stdout"
        }
      ]
    },
    {
      "metadata": {
        "id": "tRPTrbNuwBhF",
        "colab_type": "text"
      },
      "cell_type": "markdown",
      "source": [
        "## Data Exploration\n",
        "Take a look at how some of the images look like."
      ]
    },
    {
      "metadata": {
        "id": "BeCN98KLTjRv",
        "colab_type": "code",
        "colab": {
          "base_uri": "https://localhost:8080/",
          "height": 564
        },
        "outputId": "7374104f-7e15-4a33-ad13-3e63164fa028"
      },
      "cell_type": "code",
      "source": [
        "plt.figure(figsize=(10,10))\n",
        "for i in range(25):\n",
        "    plt.subplot(5,5,i+1)\n",
        "    plt.xticks([])\n",
        "    plt.yticks([])\n",
        "    plt.grid(False)\n",
        "    plt.imshow(X_train.squeeze()[i], cmap=plt.cm.binary)\n",
        "    plt.xlabel(Y_train[i])"
      ],
      "execution_count": 158,
      "outputs": [
        {
          "output_type": "execute_result",
          "data": {
            "text/plain": [
              "<matplotlib.figure.Figure at 0x7fd788e044a8>"
            ]
          },
          "metadata": {
            "tags": []
          },
          "execution_count": 158
        },
        {
          "output_type": "execute_result",
          "data": {
            "text/plain": [
              "<matplotlib.axes._subplots.AxesSubplot at 0x7fd788a56048>"
            ]
          },
          "metadata": {
            "tags": []
          },
          "execution_count": 158
        },
        {
          "output_type": "execute_result",
          "data": {
            "text/plain": [
              "([], <a list of 0 Text xticklabel objects>)"
            ]
          },
          "metadata": {
            "tags": []
          },
          "execution_count": 158
        },
        {
          "output_type": "execute_result",
          "data": {
            "text/plain": [
              "([], <a list of 0 Text yticklabel objects>)"
            ]
          },
          "metadata": {
            "tags": []
          },
          "execution_count": 158
        },
        {
          "output_type": "execute_result",
          "data": {
            "text/plain": [
              "<matplotlib.image.AxesImage at 0x7fd828121780>"
            ]
          },
          "metadata": {
            "tags": []
          },
          "execution_count": 158
        },
        {
          "output_type": "execute_result",
          "data": {
            "text/plain": [
              "Text(0.5,0,'131')"
            ]
          },
          "metadata": {
            "tags": []
          },
          "execution_count": 158
        },
        {
          "output_type": "execute_result",
          "data": {
            "text/plain": [
              "<matplotlib.axes._subplots.AxesSubplot at 0x7fd828121a58>"
            ]
          },
          "metadata": {
            "tags": []
          },
          "execution_count": 158
        },
        {
          "output_type": "execute_result",
          "data": {
            "text/plain": [
              "([], <a list of 0 Text xticklabel objects>)"
            ]
          },
          "metadata": {
            "tags": []
          },
          "execution_count": 158
        },
        {
          "output_type": "execute_result",
          "data": {
            "text/plain": [
              "([], <a list of 0 Text yticklabel objects>)"
            ]
          },
          "metadata": {
            "tags": []
          },
          "execution_count": 158
        },
        {
          "output_type": "execute_result",
          "data": {
            "text/plain": [
              "<matplotlib.image.AxesImage at 0x7fd744b8ca58>"
            ]
          },
          "metadata": {
            "tags": []
          },
          "execution_count": 158
        },
        {
          "output_type": "execute_result",
          "data": {
            "text/plain": [
              "Text(0.5,0,'117')"
            ]
          },
          "metadata": {
            "tags": []
          },
          "execution_count": 158
        },
        {
          "output_type": "execute_result",
          "data": {
            "text/plain": [
              "<matplotlib.axes._subplots.AxesSubplot at 0x7fd744b8cc50>"
            ]
          },
          "metadata": {
            "tags": []
          },
          "execution_count": 158
        },
        {
          "output_type": "execute_result",
          "data": {
            "text/plain": [
              "([], <a list of 0 Text xticklabel objects>)"
            ]
          },
          "metadata": {
            "tags": []
          },
          "execution_count": 158
        },
        {
          "output_type": "execute_result",
          "data": {
            "text/plain": [
              "([], <a list of 0 Text yticklabel objects>)"
            ]
          },
          "metadata": {
            "tags": []
          },
          "execution_count": 158
        },
        {
          "output_type": "execute_result",
          "data": {
            "text/plain": [
              "<matplotlib.image.AxesImage at 0x7fd744b43ef0>"
            ]
          },
          "metadata": {
            "tags": []
          },
          "execution_count": 158
        },
        {
          "output_type": "execute_result",
          "data": {
            "text/plain": [
              "Text(0.5,0,'250')"
            ]
          },
          "metadata": {
            "tags": []
          },
          "execution_count": 158
        },
        {
          "output_type": "execute_result",
          "data": {
            "text/plain": [
              "<matplotlib.axes._subplots.AxesSubplot at 0x7fd744b43f98>"
            ]
          },
          "metadata": {
            "tags": []
          },
          "execution_count": 158
        },
        {
          "output_type": "execute_result",
          "data": {
            "text/plain": [
              "([], <a list of 0 Text xticklabel objects>)"
            ]
          },
          "metadata": {
            "tags": []
          },
          "execution_count": 158
        },
        {
          "output_type": "execute_result",
          "data": {
            "text/plain": [
              "([], <a list of 0 Text yticklabel objects>)"
            ]
          },
          "metadata": {
            "tags": []
          },
          "execution_count": 158
        },
        {
          "output_type": "execute_result",
          "data": {
            "text/plain": [
              "<matplotlib.image.AxesImage at 0x7fd744b06240>"
            ]
          },
          "metadata": {
            "tags": []
          },
          "execution_count": 158
        },
        {
          "output_type": "execute_result",
          "data": {
            "text/plain": [
              "Text(0.5,0,'235')"
            ]
          },
          "metadata": {
            "tags": []
          },
          "execution_count": 158
        },
        {
          "output_type": "execute_result",
          "data": {
            "text/plain": [
              "<matplotlib.axes._subplots.AxesSubplot at 0x7fd744b06470>"
            ]
          },
          "metadata": {
            "tags": []
          },
          "execution_count": 158
        },
        {
          "output_type": "execute_result",
          "data": {
            "text/plain": [
              "([], <a list of 0 Text xticklabel objects>)"
            ]
          },
          "metadata": {
            "tags": []
          },
          "execution_count": 158
        },
        {
          "output_type": "execute_result",
          "data": {
            "text/plain": [
              "([], <a list of 0 Text yticklabel objects>)"
            ]
          },
          "metadata": {
            "tags": []
          },
          "execution_count": 158
        },
        {
          "output_type": "execute_result",
          "data": {
            "text/plain": [
              "<matplotlib.image.AxesImage at 0x7fd744abc710>"
            ]
          },
          "metadata": {
            "tags": []
          },
          "execution_count": 158
        },
        {
          "output_type": "execute_result",
          "data": {
            "text/plain": [
              "Text(0.5,0,'216')"
            ]
          },
          "metadata": {
            "tags": []
          },
          "execution_count": 158
        },
        {
          "output_type": "execute_result",
          "data": {
            "text/plain": [
              "<matplotlib.axes._subplots.AxesSubplot at 0x7fd744abc828>"
            ]
          },
          "metadata": {
            "tags": []
          },
          "execution_count": 158
        },
        {
          "output_type": "execute_result",
          "data": {
            "text/plain": [
              "([], <a list of 0 Text xticklabel objects>)"
            ]
          },
          "metadata": {
            "tags": []
          },
          "execution_count": 158
        },
        {
          "output_type": "execute_result",
          "data": {
            "text/plain": [
              "([], <a list of 0 Text yticklabel objects>)"
            ]
          },
          "metadata": {
            "tags": []
          },
          "execution_count": 158
        },
        {
          "output_type": "execute_result",
          "data": {
            "text/plain": [
              "<matplotlib.image.AxesImage at 0x7fd744ad2b70>"
            ]
          },
          "metadata": {
            "tags": []
          },
          "execution_count": 158
        },
        {
          "output_type": "execute_result",
          "data": {
            "text/plain": [
              "Text(0.5,0,'230')"
            ]
          },
          "metadata": {
            "tags": []
          },
          "execution_count": 158
        },
        {
          "output_type": "execute_result",
          "data": {
            "text/plain": [
              "<matplotlib.axes._subplots.AxesSubplot at 0x7fd744ac59e8>"
            ]
          },
          "metadata": {
            "tags": []
          },
          "execution_count": 158
        },
        {
          "output_type": "execute_result",
          "data": {
            "text/plain": [
              "([], <a list of 0 Text xticklabel objects>)"
            ]
          },
          "metadata": {
            "tags": []
          },
          "execution_count": 158
        },
        {
          "output_type": "execute_result",
          "data": {
            "text/plain": [
              "([], <a list of 0 Text yticklabel objects>)"
            ]
          },
          "metadata": {
            "tags": []
          },
          "execution_count": 158
        },
        {
          "output_type": "execute_result",
          "data": {
            "text/plain": [
              "<matplotlib.image.AxesImage at 0x7fd744aa6898>"
            ]
          },
          "metadata": {
            "tags": []
          },
          "execution_count": 158
        },
        {
          "output_type": "execute_result",
          "data": {
            "text/plain": [
              "Text(0.5,0,'23')"
            ]
          },
          "metadata": {
            "tags": []
          },
          "execution_count": 158
        },
        {
          "output_type": "execute_result",
          "data": {
            "text/plain": [
              "<matplotlib.axes._subplots.AxesSubplot at 0x7fd744aa6b00>"
            ]
          },
          "metadata": {
            "tags": []
          },
          "execution_count": 158
        },
        {
          "output_type": "execute_result",
          "data": {
            "text/plain": [
              "([], <a list of 0 Text xticklabel objects>)"
            ]
          },
          "metadata": {
            "tags": []
          },
          "execution_count": 158
        },
        {
          "output_type": "execute_result",
          "data": {
            "text/plain": [
              "([], <a list of 0 Text yticklabel objects>)"
            ]
          },
          "metadata": {
            "tags": []
          },
          "execution_count": 158
        },
        {
          "output_type": "execute_result",
          "data": {
            "text/plain": [
              "<matplotlib.image.AxesImage at 0x7fd744a690f0>"
            ]
          },
          "metadata": {
            "tags": []
          },
          "execution_count": 158
        },
        {
          "output_type": "execute_result",
          "data": {
            "text/plain": [
              "Text(0.5,0,'47')"
            ]
          },
          "metadata": {
            "tags": []
          },
          "execution_count": 158
        },
        {
          "output_type": "execute_result",
          "data": {
            "text/plain": [
              "<matplotlib.axes._subplots.AxesSubplot at 0x7fd744a69470>"
            ]
          },
          "metadata": {
            "tags": []
          },
          "execution_count": 158
        },
        {
          "output_type": "execute_result",
          "data": {
            "text/plain": [
              "([], <a list of 0 Text xticklabel objects>)"
            ]
          },
          "metadata": {
            "tags": []
          },
          "execution_count": 158
        },
        {
          "output_type": "execute_result",
          "data": {
            "text/plain": [
              "([], <a list of 0 Text yticklabel objects>)"
            ]
          },
          "metadata": {
            "tags": []
          },
          "execution_count": 158
        },
        {
          "output_type": "execute_result",
          "data": {
            "text/plain": [
              "<matplotlib.image.AxesImage at 0x7fd7449fb080>"
            ]
          },
          "metadata": {
            "tags": []
          },
          "execution_count": 158
        },
        {
          "output_type": "execute_result",
          "data": {
            "text/plain": [
              "Text(0.5,0,'2')"
            ]
          },
          "metadata": {
            "tags": []
          },
          "execution_count": 158
        },
        {
          "output_type": "execute_result",
          "data": {
            "text/plain": [
              "<matplotlib.axes._subplots.AxesSubplot at 0x7fd744a207f0>"
            ]
          },
          "metadata": {
            "tags": []
          },
          "execution_count": 158
        },
        {
          "output_type": "execute_result",
          "data": {
            "text/plain": [
              "([], <a list of 0 Text xticklabel objects>)"
            ]
          },
          "metadata": {
            "tags": []
          },
          "execution_count": 158
        },
        {
          "output_type": "execute_result",
          "data": {
            "text/plain": [
              "([], <a list of 0 Text yticklabel objects>)"
            ]
          },
          "metadata": {
            "tags": []
          },
          "execution_count": 158
        },
        {
          "output_type": "execute_result",
          "data": {
            "text/plain": [
              "<matplotlib.image.AxesImage at 0x7fd7449d8908>"
            ]
          },
          "metadata": {
            "tags": []
          },
          "execution_count": 158
        },
        {
          "output_type": "execute_result",
          "data": {
            "text/plain": [
              "Text(0.5,0,'149')"
            ]
          },
          "metadata": {
            "tags": []
          },
          "execution_count": 158
        },
        {
          "output_type": "execute_result",
          "data": {
            "text/plain": [
              "<matplotlib.axes._subplots.AxesSubplot at 0x7fd7449d8be0>"
            ]
          },
          "metadata": {
            "tags": []
          },
          "execution_count": 158
        },
        {
          "output_type": "execute_result",
          "data": {
            "text/plain": [
              "([], <a list of 0 Text xticklabel objects>)"
            ]
          },
          "metadata": {
            "tags": []
          },
          "execution_count": 158
        },
        {
          "output_type": "execute_result",
          "data": {
            "text/plain": [
              "([], <a list of 0 Text yticklabel objects>)"
            ]
          },
          "metadata": {
            "tags": []
          },
          "execution_count": 158
        },
        {
          "output_type": "execute_result",
          "data": {
            "text/plain": [
              "<matplotlib.image.AxesImage at 0x7fd74498c3c8>"
            ]
          },
          "metadata": {
            "tags": []
          },
          "execution_count": 158
        },
        {
          "output_type": "execute_result",
          "data": {
            "text/plain": [
              "Text(0.5,0,'147')"
            ]
          },
          "metadata": {
            "tags": []
          },
          "execution_count": 158
        },
        {
          "output_type": "execute_result",
          "data": {
            "text/plain": [
              "<matplotlib.axes._subplots.AxesSubplot at 0x7fd74498c5c0>"
            ]
          },
          "metadata": {
            "tags": []
          },
          "execution_count": 158
        },
        {
          "output_type": "execute_result",
          "data": {
            "text/plain": [
              "([], <a list of 0 Text xticklabel objects>)"
            ]
          },
          "metadata": {
            "tags": []
          },
          "execution_count": 158
        },
        {
          "output_type": "execute_result",
          "data": {
            "text/plain": [
              "([], <a list of 0 Text yticklabel objects>)"
            ]
          },
          "metadata": {
            "tags": []
          },
          "execution_count": 158
        },
        {
          "output_type": "execute_result",
          "data": {
            "text/plain": [
              "<matplotlib.image.AxesImage at 0x7fd744942908>"
            ]
          },
          "metadata": {
            "tags": []
          },
          "execution_count": 158
        },
        {
          "output_type": "execute_result",
          "data": {
            "text/plain": [
              "Text(0.5,0,'158')"
            ]
          },
          "metadata": {
            "tags": []
          },
          "execution_count": 158
        },
        {
          "output_type": "execute_result",
          "data": {
            "text/plain": [
              "<matplotlib.axes._subplots.AxesSubplot at 0x7fd744942b00>"
            ]
          },
          "metadata": {
            "tags": []
          },
          "execution_count": 158
        },
        {
          "output_type": "execute_result",
          "data": {
            "text/plain": [
              "([], <a list of 0 Text xticklabel objects>)"
            ]
          },
          "metadata": {
            "tags": []
          },
          "execution_count": 158
        },
        {
          "output_type": "execute_result",
          "data": {
            "text/plain": [
              "([], <a list of 0 Text yticklabel objects>)"
            ]
          },
          "metadata": {
            "tags": []
          },
          "execution_count": 158
        },
        {
          "output_type": "execute_result",
          "data": {
            "text/plain": [
              "<matplotlib.image.AxesImage at 0x7fd7448fcd30>"
            ]
          },
          "metadata": {
            "tags": []
          },
          "execution_count": 158
        },
        {
          "output_type": "execute_result",
          "data": {
            "text/plain": [
              "Text(0.5,0,'10')"
            ]
          },
          "metadata": {
            "tags": []
          },
          "execution_count": 158
        },
        {
          "output_type": "execute_result",
          "data": {
            "text/plain": [
              "<matplotlib.axes._subplots.AxesSubplot at 0x7fd7448fcdd8>"
            ]
          },
          "metadata": {
            "tags": []
          },
          "execution_count": 158
        },
        {
          "output_type": "execute_result",
          "data": {
            "text/plain": [
              "([], <a list of 0 Text xticklabel objects>)"
            ]
          },
          "metadata": {
            "tags": []
          },
          "execution_count": 158
        },
        {
          "output_type": "execute_result",
          "data": {
            "text/plain": [
              "([], <a list of 0 Text yticklabel objects>)"
            ]
          },
          "metadata": {
            "tags": []
          },
          "execution_count": 158
        },
        {
          "output_type": "execute_result",
          "data": {
            "text/plain": [
              "<matplotlib.image.AxesImage at 0x7fd744930f28>"
            ]
          },
          "metadata": {
            "tags": []
          },
          "execution_count": 158
        },
        {
          "output_type": "execute_result",
          "data": {
            "text/plain": [
              "Text(0.5,0,'17')"
            ]
          },
          "metadata": {
            "tags": []
          },
          "execution_count": 158
        },
        {
          "output_type": "execute_result",
          "data": {
            "text/plain": [
              "<matplotlib.axes._subplots.AxesSubplot at 0x7fd7448be320>"
            ]
          },
          "metadata": {
            "tags": []
          },
          "execution_count": 158
        },
        {
          "output_type": "execute_result",
          "data": {
            "text/plain": [
              "([], <a list of 0 Text xticklabel objects>)"
            ]
          },
          "metadata": {
            "tags": []
          },
          "execution_count": 158
        },
        {
          "output_type": "execute_result",
          "data": {
            "text/plain": [
              "([], <a list of 0 Text yticklabel objects>)"
            ]
          },
          "metadata": {
            "tags": []
          },
          "execution_count": 158
        },
        {
          "output_type": "execute_result",
          "data": {
            "text/plain": [
              "<matplotlib.image.AxesImage at 0x7fd744903c88>"
            ]
          },
          "metadata": {
            "tags": []
          },
          "execution_count": 158
        },
        {
          "output_type": "execute_result",
          "data": {
            "text/plain": [
              "Text(0.5,0,'226')"
            ]
          },
          "metadata": {
            "tags": []
          },
          "execution_count": 158
        },
        {
          "output_type": "execute_result",
          "data": {
            "text/plain": [
              "<matplotlib.axes._subplots.AxesSubplot at 0x7fd7449525f8>"
            ]
          },
          "metadata": {
            "tags": []
          },
          "execution_count": 158
        },
        {
          "output_type": "execute_result",
          "data": {
            "text/plain": [
              "([], <a list of 0 Text xticklabel objects>)"
            ]
          },
          "metadata": {
            "tags": []
          },
          "execution_count": 158
        },
        {
          "output_type": "execute_result",
          "data": {
            "text/plain": [
              "([], <a list of 0 Text yticklabel objects>)"
            ]
          },
          "metadata": {
            "tags": []
          },
          "execution_count": 158
        },
        {
          "output_type": "execute_result",
          "data": {
            "text/plain": [
              "<matplotlib.image.AxesImage at 0x7fd7448a1a20>"
            ]
          },
          "metadata": {
            "tags": []
          },
          "execution_count": 158
        },
        {
          "output_type": "execute_result",
          "data": {
            "text/plain": [
              "Text(0.5,0,'21')"
            ]
          },
          "metadata": {
            "tags": []
          },
          "execution_count": 158
        },
        {
          "output_type": "execute_result",
          "data": {
            "text/plain": [
              "<matplotlib.axes._subplots.AxesSubplot at 0x7fd7448a1c50>"
            ]
          },
          "metadata": {
            "tags": []
          },
          "execution_count": 158
        },
        {
          "output_type": "execute_result",
          "data": {
            "text/plain": [
              "([], <a list of 0 Text xticklabel objects>)"
            ]
          },
          "metadata": {
            "tags": []
          },
          "execution_count": 158
        },
        {
          "output_type": "execute_result",
          "data": {
            "text/plain": [
              "([], <a list of 0 Text yticklabel objects>)"
            ]
          },
          "metadata": {
            "tags": []
          },
          "execution_count": 158
        },
        {
          "output_type": "execute_result",
          "data": {
            "text/plain": [
              "<matplotlib.image.AxesImage at 0x7fd744862358>"
            ]
          },
          "metadata": {
            "tags": []
          },
          "execution_count": 158
        },
        {
          "output_type": "execute_result",
          "data": {
            "text/plain": [
              "Text(0.5,0,'228')"
            ]
          },
          "metadata": {
            "tags": []
          },
          "execution_count": 158
        },
        {
          "output_type": "execute_result",
          "data": {
            "text/plain": [
              "<matplotlib.axes._subplots.AxesSubplot at 0x7fd7448626a0>"
            ]
          },
          "metadata": {
            "tags": []
          },
          "execution_count": 158
        },
        {
          "output_type": "execute_result",
          "data": {
            "text/plain": [
              "([], <a list of 0 Text xticklabel objects>)"
            ]
          },
          "metadata": {
            "tags": []
          },
          "execution_count": 158
        },
        {
          "output_type": "execute_result",
          "data": {
            "text/plain": [
              "([], <a list of 0 Text yticklabel objects>)"
            ]
          },
          "metadata": {
            "tags": []
          },
          "execution_count": 158
        },
        {
          "output_type": "execute_result",
          "data": {
            "text/plain": [
              "<matplotlib.image.AxesImage at 0x7fd744818dd8>"
            ]
          },
          "metadata": {
            "tags": []
          },
          "execution_count": 158
        },
        {
          "output_type": "execute_result",
          "data": {
            "text/plain": [
              "Text(0.5,0,'183')"
            ]
          },
          "metadata": {
            "tags": []
          },
          "execution_count": 158
        },
        {
          "output_type": "execute_result",
          "data": {
            "text/plain": [
              "<matplotlib.axes._subplots.AxesSubplot at 0x7fd744818c18>"
            ]
          },
          "metadata": {
            "tags": []
          },
          "execution_count": 158
        },
        {
          "output_type": "execute_result",
          "data": {
            "text/plain": [
              "([], <a list of 0 Text xticklabel objects>)"
            ]
          },
          "metadata": {
            "tags": []
          },
          "execution_count": 158
        },
        {
          "output_type": "execute_result",
          "data": {
            "text/plain": [
              "([], <a list of 0 Text yticklabel objects>)"
            ]
          },
          "metadata": {
            "tags": []
          },
          "execution_count": 158
        },
        {
          "output_type": "execute_result",
          "data": {
            "text/plain": [
              "<matplotlib.image.AxesImage at 0x7fd7447d79e8>"
            ]
          },
          "metadata": {
            "tags": []
          },
          "execution_count": 158
        },
        {
          "output_type": "execute_result",
          "data": {
            "text/plain": [
              "Text(0.5,0,'204')"
            ]
          },
          "metadata": {
            "tags": []
          },
          "execution_count": 158
        },
        {
          "output_type": "execute_result",
          "data": {
            "text/plain": [
              "<matplotlib.axes._subplots.AxesSubplot at 0x7fd7447d7be0>"
            ]
          },
          "metadata": {
            "tags": []
          },
          "execution_count": 158
        },
        {
          "output_type": "execute_result",
          "data": {
            "text/plain": [
              "([], <a list of 0 Text xticklabel objects>)"
            ]
          },
          "metadata": {
            "tags": []
          },
          "execution_count": 158
        },
        {
          "output_type": "execute_result",
          "data": {
            "text/plain": [
              "([], <a list of 0 Text yticklabel objects>)"
            ]
          },
          "metadata": {
            "tags": []
          },
          "execution_count": 158
        },
        {
          "output_type": "execute_result",
          "data": {
            "text/plain": [
              "<matplotlib.image.AxesImage at 0x7fd744787860>"
            ]
          },
          "metadata": {
            "tags": []
          },
          "execution_count": 158
        },
        {
          "output_type": "execute_result",
          "data": {
            "text/plain": [
              "Text(0.5,0,'2')"
            ]
          },
          "metadata": {
            "tags": []
          },
          "execution_count": 158
        },
        {
          "output_type": "execute_result",
          "data": {
            "text/plain": [
              "<matplotlib.axes._subplots.AxesSubplot at 0x7fd744787cf8>"
            ]
          },
          "metadata": {
            "tags": []
          },
          "execution_count": 158
        },
        {
          "output_type": "execute_result",
          "data": {
            "text/plain": [
              "([], <a list of 0 Text xticklabel objects>)"
            ]
          },
          "metadata": {
            "tags": []
          },
          "execution_count": 158
        },
        {
          "output_type": "execute_result",
          "data": {
            "text/plain": [
              "([], <a list of 0 Text yticklabel objects>)"
            ]
          },
          "metadata": {
            "tags": []
          },
          "execution_count": 158
        },
        {
          "output_type": "execute_result",
          "data": {
            "text/plain": [
              "<matplotlib.image.AxesImage at 0x7fd744747358>"
            ]
          },
          "metadata": {
            "tags": []
          },
          "execution_count": 158
        },
        {
          "output_type": "execute_result",
          "data": {
            "text/plain": [
              "Text(0.5,0,'70')"
            ]
          },
          "metadata": {
            "tags": []
          },
          "execution_count": 158
        },
        {
          "output_type": "execute_result",
          "data": {
            "text/plain": [
              "<matplotlib.axes._subplots.AxesSubplot at 0x7fd7447474e0>"
            ]
          },
          "metadata": {
            "tags": []
          },
          "execution_count": 158
        },
        {
          "output_type": "execute_result",
          "data": {
            "text/plain": [
              "([], <a list of 0 Text xticklabel objects>)"
            ]
          },
          "metadata": {
            "tags": []
          },
          "execution_count": 158
        },
        {
          "output_type": "execute_result",
          "data": {
            "text/plain": [
              "([], <a list of 0 Text yticklabel objects>)"
            ]
          },
          "metadata": {
            "tags": []
          },
          "execution_count": 158
        },
        {
          "output_type": "execute_result",
          "data": {
            "text/plain": [
              "<matplotlib.image.AxesImage at 0x7fd7446fbc88>"
            ]
          },
          "metadata": {
            "tags": []
          },
          "execution_count": 158
        },
        {
          "output_type": "execute_result",
          "data": {
            "text/plain": [
              "Text(0.5,0,'153')"
            ]
          },
          "metadata": {
            "tags": []
          },
          "execution_count": 158
        },
        {
          "output_type": "execute_result",
          "data": {
            "text/plain": [
              "<matplotlib.axes._subplots.AxesSubplot at 0x7fd7446fbe48>"
            ]
          },
          "metadata": {
            "tags": []
          },
          "execution_count": 158
        },
        {
          "output_type": "execute_result",
          "data": {
            "text/plain": [
              "([], <a list of 0 Text xticklabel objects>)"
            ]
          },
          "metadata": {
            "tags": []
          },
          "execution_count": 158
        },
        {
          "output_type": "execute_result",
          "data": {
            "text/plain": [
              "([], <a list of 0 Text yticklabel objects>)"
            ]
          },
          "metadata": {
            "tags": []
          },
          "execution_count": 158
        },
        {
          "output_type": "execute_result",
          "data": {
            "text/plain": [
              "<matplotlib.image.AxesImage at 0x7fd744738ac8>"
            ]
          },
          "metadata": {
            "tags": []
          },
          "execution_count": 158
        },
        {
          "output_type": "execute_result",
          "data": {
            "text/plain": [
              "Text(0.5,0,'17')"
            ]
          },
          "metadata": {
            "tags": []
          },
          "execution_count": 158
        },
        {
          "output_type": "execute_result",
          "data": {
            "text/plain": [
              "<matplotlib.axes._subplots.AxesSubplot at 0x7fd744738c88>"
            ]
          },
          "metadata": {
            "tags": []
          },
          "execution_count": 158
        },
        {
          "output_type": "execute_result",
          "data": {
            "text/plain": [
              "([], <a list of 0 Text xticklabel objects>)"
            ]
          },
          "metadata": {
            "tags": []
          },
          "execution_count": 158
        },
        {
          "output_type": "execute_result",
          "data": {
            "text/plain": [
              "([], <a list of 0 Text yticklabel objects>)"
            ]
          },
          "metadata": {
            "tags": []
          },
          "execution_count": 158
        },
        {
          "output_type": "execute_result",
          "data": {
            "text/plain": [
              "<matplotlib.image.AxesImage at 0x7fd7446eb898>"
            ]
          },
          "metadata": {
            "tags": []
          },
          "execution_count": 158
        },
        {
          "output_type": "execute_result",
          "data": {
            "text/plain": [
              "Text(0.5,0,'133')"
            ]
          },
          "metadata": {
            "tags": []
          },
          "execution_count": 158
        },
        {
          "output_type": "execute_result",
          "data": {
            "text/plain": [
              "<matplotlib.axes._subplots.AxesSubplot at 0x7fd7446eba90>"
            ]
          },
          "metadata": {
            "tags": []
          },
          "execution_count": 158
        },
        {
          "output_type": "execute_result",
          "data": {
            "text/plain": [
              "([], <a list of 0 Text xticklabel objects>)"
            ]
          },
          "metadata": {
            "tags": []
          },
          "execution_count": 158
        },
        {
          "output_type": "execute_result",
          "data": {
            "text/plain": [
              "([], <a list of 0 Text yticklabel objects>)"
            ]
          },
          "metadata": {
            "tags": []
          },
          "execution_count": 158
        },
        {
          "output_type": "execute_result",
          "data": {
            "text/plain": [
              "<matplotlib.image.AxesImage at 0x7fd74469ef28>"
            ]
          },
          "metadata": {
            "tags": []
          },
          "execution_count": 158
        },
        {
          "output_type": "execute_result",
          "data": {
            "text/plain": [
              "Text(0.5,0,'177')"
            ]
          },
          "metadata": {
            "tags": []
          },
          "execution_count": 158
        },
        {
          "output_type": "display_data",
          "data": {
            "image/png": "[encoded data removed]",
            "text/plain": [
              "<matplotlib.figure.Figure at 0x7fd788e044a8>"
            ]
          },
          "metadata": {
            "tags": []
          }
        }
      ]
    },
    {
      "metadata": {
        "id": "X79y2DESwSXA",
        "colab_type": "text"
      },
      "cell_type": "markdown",
      "source": [
        "For our model to work at its best, data should be **balanced**. So we check if all present labels have, with some approximation, the same number of occurences in our data.\n",
        "\n"
      ]
    },
    {
      "metadata": {
        "id": "ZVGxEDWebstx",
        "colab_type": "code",
        "outputId": "fb404850-d729-4fda-df19-f08d99f57c77",
        "colab": {
          "base_uri": "https://localhost:8080/",
          "height": 359
        }
      },
      "cell_type": "code",
      "source": [
        "labels, counts = np.unique(Y_train, return_counts=True)\n",
        "fig, ax = plt.subplots()\n",
        "fig.suptitle('Count distribution of samples by classes', fontsize=16);\n",
        "print('Media aparitiilor : %.2f' % (counts.mean()))\n",
        "print('Cea mai rar intalnita clasa apare de %d ori' % (counts.min()))\n",
        "print('Cea mai des intalnita clasa apare de %d ori.' % (counts.max()))\n",
        "# ax.bar(labels, counts )\n",
        "counts_p = counts / sum(counts)\n",
        "ax.set_xlabel('Number of occurences');\n",
        "ax.set_ylabel('Number of classes');\n",
        "ax.hist(counts);"
      ],
      "execution_count": 159,
      "outputs": [
        {
          "output_type": "stream",
          "text": [
            "Media aparitiilor : 235.29\n",
            "Cea mai rar intalnita clasa apare de 189 ori\n",
            "Cea mai des intalnita clasa apare de 293 ori.\n"
          ],
          "name": "stdout"
        },
        {
          "output_type": "display_data",
          "data": {
            "image/png": "[encoded data removed]",
            "text/plain": [
              "<matplotlib.figure.Figure at 0x7fd7446f3c18>"
            ]
          },
          "metadata": {
            "tags": []
          }
        }
      ]
    },
    {
      "metadata": {
        "id": "4be2xaZtxIgF",
        "colab_type": "text"
      },
      "cell_type": "markdown",
      "source": [
        "## Model Arhitecture\n",
        "\n",
        "We use  **3 Convolutional layers** , followed by **MaxPooling** to train filters to extract relevant information from the image. \n",
        "Number of filters in the first layer is usually chosen smaller than at following layers because simpler features are usually extracted in the first layer : things like digit contours and shapes. \n",
        "\n",
        "We follow each of these with a **Dropout** layer of *0.4* dropout rate. We tried values ranging from 0.2 to 0.5 and model scores didn't vary much. \n",
        "\n",
        "We then **flatten** the output and add an additional  **Dense** layer of *128* neurons.\n",
        "\n",
        "Finally, we get the network result by adding a **Dense** layer with **softmax**. The rest of the layers are activated using **relu**.\n",
        "\n",
        "We tried **sgd**, **adam** and **rmsprop** as the optimizers of the problem. Even though *rmsprop* is usually used at rnn networks, it worked best here. The *sgd* trained slower than the others and *adam* gave comparable but smaller results than *rmsprop*."
      ]
    },
    {
      "metadata": {
        "id": "vIH9eYadZF56",
        "colab_type": "code",
        "outputId": "5b1ba428-7703-4cf7-86ed-ecb2fc6ae636",
        "colab": {
          "base_uri": "https://localhost:8080/",
          "height": 476
        }
      },
      "cell_type": "code",
      "source": [
        "model = tf.keras.models.Sequential()\n",
        "model.add(tf.keras.layers.Conv2D(32, (3, 3), activation = 'relu', input_shape = (28, 84, 1)))\n",
        "model.add(tf.keras.layers.MaxPooling2D(2, 2))\n",
        "model.add(tf.keras.layers.Dropout(0.5))\n",
        "model.add(tf.keras.layers.Conv2D(64, (3, 3), activation = 'relu'))\n",
        "model.add(tf.keras.layers.MaxPooling2D(2, 2))\n",
        "model.add(tf.keras.layers.Dropout(0.5))\n",
        "model.add(tf.keras.layers.Conv2D(64, (3, 3), activation = 'relu'))\n",
        "model.add(tf.keras.layers.Flatten())\n",
        "model.add(tf.keras.layers.Dense(128, activation = 'relu'))\n",
        "# model.add(tf.keras.layers.Dropout(0.5))\n",
        "model.add(tf.keras.layers.Dense(256, activation = 'softmax'))\n",
        "\n",
        "model.summary()\n",
        "# rmsprop pare cel mai bun, dar e recomandat pentru rnn-uri. \n",
        "# Mai încearca si cu adam si cu asta\n",
        "# pentru input = 10000 (.3 split), cu 25 de epoci se ajunge la 75-80%\n",
        "# pentru input = 60000 (.3 split), cu 5-10 epoci se ajunge la 70-80%\n",
        "#rmsprop - 25 (27 val)\n",
        "#sgd - 0.7\n",
        "#adam - 26\n",
        "model.compile(optimizer = 'rmsprop', loss = 'categorical_crossentropy', metrics = ['accuracy'])\n"
      ],
      "execution_count": 160,
      "outputs": [
        {
          "output_type": "stream",
          "text": [
            "_________________________________________________________________\n",
            "Layer (type)                 Output Shape              Param #   \n",
            "=================================================================\n",
            "conv2d_33 (Conv2D)           (None, 26, 82, 32)        320       \n",
            "_________________________________________________________________\n",
            "max_pooling2d_22 (MaxPooling (None, 13, 41, 32)        0         \n",
            "_________________________________________________________________\n",
            "dropout_26 (Dropout)         (None, 13, 41, 32)        0         \n",
            "_________________________________________________________________\n",
            "conv2d_34 (Conv2D)           (None, 11, 39, 64)        18496     \n",
            "_________________________________________________________________\n",
            "max_pooling2d_23 (MaxPooling (None, 5, 19, 64)         0         \n",
            "_________________________________________________________________\n",
            "dropout_27 (Dropout)         (None, 5, 19, 64)         0         \n",
            "_________________________________________________________________\n",
            "conv2d_35 (Conv2D)           (None, 3, 17, 64)         36928     \n",
            "_________________________________________________________________\n",
            "flatten_12 (Flatten)         (None, 3264)              0         \n",
            "_________________________________________________________________\n",
            "dense_21 (Dense)             (None, 128)               417920    \n",
            "_________________________________________________________________\n",
            "dense_22 (Dense)             (None, 256)               33024     \n",
            "=================================================================\n",
            "Total params: 506,688\n",
            "Trainable params: 506,688\n",
            "Non-trainable params: 0\n",
            "_________________________________________________________________\n"
          ],
          "name": "stdout"
        }
      ]
    },
    {
      "metadata": {
        "id": "kSgG3x7_wzWj",
        "colab_type": "text"
      },
      "cell_type": "markdown",
      "source": [
        "## Data preprocessing\n",
        "Our labels are numbers ranging from 0 to 255. We will **one-hot encode** these labels to be compliant with the network arhitecture."
      ]
    },
    {
      "metadata": {
        "id": "bmYJ7EwVpICI",
        "colab_type": "code",
        "colab": {}
      },
      "cell_type": "code",
      "source": [
        "from keras.utils import to_categorical\n",
        "Y_train_OH  = to_categorical(Y_train, num_classes=256)\n",
        "Y_test_OH = to_categorical(Y_test, num_classes = 256)"
      ],
      "execution_count": 0,
      "outputs": []
    },
    {
      "metadata": {
        "id": "dM2zcH7xxY46",
        "colab_type": "text"
      },
      "cell_type": "markdown",
      "source": [
        "For proper evaluation of the model and to avoid overfitting, we split train data into training and validation samples. We will fit our model on the train samples, but evaluate its performance after an epoch of training on the validation samples."
      ]
    },
    {
      "metadata": {
        "id": "C4MXKcAAwrAq",
        "colab_type": "code",
        "colab": {}
      },
      "cell_type": "code",
      "source": [
        "from sklearn.model_selection import train_test_split\n",
        "x_train, x_val, y_train, y_val = train_test_split(X_train, Y_train_OH, test_size = 0.3, random_state = 48)\n",
        "x_test = X_test\n",
        "y_test = Y_test_OH\n"
      ],
      "execution_count": 0,
      "outputs": []
    },
    {
      "metadata": {
        "id": "2J_3yfOe0LLu",
        "colab_type": "text"
      },
      "cell_type": "markdown",
      "source": [
        "## Fitting\n",
        "We save the weights of the model with the best results on the validation set."
      ]
    },
    {
      "metadata": {
        "id": "KDxEbhhoZRlU",
        "colab_type": "code",
        "outputId": "5ffdd2b7-3abd-4806-e7f9-9ab7e1b9c33f",
        "colab": {
          "base_uri": "https://localhost:8080/",
          "height": 2074
        }
      },
      "cell_type": "code",
      "source": [
        "no_epochs = 30\n",
        "# save best model in hdf5 file\n",
        "checkpointer = keras.callbacks.ModelCheckpoint(filepath=\"numbers_2.hdf5\", verbose=1, save_best_only=True)\n",
        "history = model.fit(x_train, y_train, epochs=no_epochs, validation_data= (x_val, y_val) , callbacks=[checkpointer])"
      ],
      "execution_count": 163,
      "outputs": [
        {
          "output_type": "stream",
          "text": [
            "Train on 42000 samples, validate on 18000 samples\n",
            "Epoch 1/30\n",
            "41920/42000 [============================>.] - ETA: 0s - loss: 3.5271 - acc: 0.2211\n",
            "Epoch 00001: val_loss improved from inf to 1.71302, saving model to numbers_2.hdf5\n",
            "42000/42000 [==============================] - 30s 720us/step - loss: 3.5247 - acc: 0.2215 - val_loss: 1.7130 - val_acc: 0.5633\n",
            "Epoch 2/30\n",
            "41984/42000 [============================>.] - ETA: 0s - loss: 1.3470 - acc: 0.6588\n",
            "Epoch 00002: val_loss improved from 1.71302 to 0.90095, saving model to numbers_2.hdf5\n",
            "42000/42000 [==============================] - 15s 353us/step - loss: 1.3468 - acc: 0.6588 - val_loss: 0.9009 - val_acc: 0.7926\n",
            "Epoch 3/30\n",
            "41920/42000 [============================>.] - ETA: 0s - loss: 0.8941 - acc: 0.7839\n",
            "Epoch 00003: val_loss improved from 0.90095 to 0.70320, saving model to numbers_2.hdf5\n",
            "42000/42000 [==============================] - 15s 348us/step - loss: 0.8940 - acc: 0.7839 - val_loss: 0.7032 - val_acc: 0.8426\n",
            "Epoch 4/30\n",
            "41920/42000 [============================>.] - ETA: 0s - loss: 0.7318 - acc: 0.8280\n",
            "Epoch 00004: val_loss improved from 0.70320 to 0.62536, saving model to numbers_2.hdf5\n",
            "42000/42000 [==============================] - 15s 347us/step - loss: 0.7318 - acc: 0.8280 - val_loss: 0.6254 - val_acc: 0.8599\n",
            "Epoch 5/30\n",
            "41888/42000 [============================>.] - ETA: 0s - loss: 0.6534 - acc: 0.8472\n",
            "Epoch 00005: val_loss improved from 0.62536 to 0.59966, saving model to numbers_2.hdf5\n",
            "42000/42000 [==============================] - 15s 347us/step - loss: 0.6536 - acc: 0.8471 - val_loss: 0.5997 - val_acc: 0.8699\n",
            "Epoch 6/30\n",
            "41824/42000 [============================>.] - ETA: 0s - loss: 0.6100 - acc: 0.8566\n",
            "Epoch 00006: val_loss improved from 0.59966 to 0.56293, saving model to numbers_2.hdf5\n",
            "42000/42000 [==============================] - 15s 347us/step - loss: 0.6104 - acc: 0.8566 - val_loss: 0.5629 - val_acc: 0.8776\n",
            "Epoch 7/30\n",
            "41984/42000 [============================>.] - ETA: 0s - loss: 0.5876 - acc: 0.8680\n",
            "Epoch 00007: val_loss did not improve from 0.56293\n",
            "42000/42000 [==============================] - 15s 347us/step - loss: 0.5879 - acc: 0.8680 - val_loss: 0.5854 - val_acc: 0.8769\n",
            "Epoch 8/30\n",
            "41888/42000 [============================>.] - ETA: 0s - loss: 0.5750 - acc: 0.8691\n",
            "Epoch 00008: val_loss improved from 0.56293 to 0.54879, saving model to numbers_2.hdf5\n",
            "42000/42000 [==============================] - 15s 349us/step - loss: 0.5751 - acc: 0.8691 - val_loss: 0.5488 - val_acc: 0.8808\n",
            "Epoch 9/30\n",
            "41888/42000 [============================>.] - ETA: 0s - loss: 0.5611 - acc: 0.8731\n",
            "Epoch 00009: val_loss improved from 0.54879 to 0.54343, saving model to numbers_2.hdf5\n",
            "42000/42000 [==============================] - 15s 348us/step - loss: 0.5616 - acc: 0.8730 - val_loss: 0.5434 - val_acc: 0.8812\n",
            "Epoch 10/30\n",
            "41856/42000 [============================>.] - ETA: 0s - loss: 0.5505 - acc: 0.8749\n",
            "Epoch 00010: val_loss improved from 0.54343 to 0.54205, saving model to numbers_2.hdf5\n",
            "42000/42000 [==============================] - 15s 347us/step - loss: 0.5499 - acc: 0.8750 - val_loss: 0.5421 - val_acc: 0.8853\n",
            "Epoch 11/30\n",
            "41984/42000 [============================>.] - ETA: 0s - loss: 0.5475 - acc: 0.8760\n",
            "Epoch 00011: val_loss did not improve from 0.54205\n",
            "42000/42000 [==============================] - 15s 351us/step - loss: 0.5477 - acc: 0.8760 - val_loss: 0.6390 - val_acc: 0.8802\n",
            "Epoch 12/30\n",
            "41984/42000 [============================>.] - ETA: 0s - loss: 0.5339 - acc: 0.8791\n",
            "Epoch 00012: val_loss improved from 0.54205 to 0.53427, saving model to numbers_2.hdf5\n",
            "42000/42000 [==============================] - 15s 348us/step - loss: 0.5337 - acc: 0.8792 - val_loss: 0.5343 - val_acc: 0.8863\n",
            "Epoch 13/30\n",
            "41824/42000 [============================>.] - ETA: 0s - loss: 0.5321 - acc: 0.8810\n",
            "Epoch 00013: val_loss did not improve from 0.53427\n",
            "42000/42000 [==============================] - 15s 350us/step - loss: 0.5321 - acc: 0.8811 - val_loss: 0.6433 - val_acc: 0.8599\n",
            "Epoch 14/30\n",
            "41952/42000 [============================>.] - ETA: 0s - loss: 0.5408 - acc: 0.8775\n",
            "Epoch 00014: val_loss did not improve from 0.53427\n",
            "42000/42000 [==============================] - 15s 351us/step - loss: 0.5408 - acc: 0.8775 - val_loss: 0.6060 - val_acc: 0.8778\n",
            "Epoch 15/30\n",
            "41856/42000 [============================>.] - ETA: 0s - loss: 0.5350 - acc: 0.8790\n",
            "Epoch 00015: val_loss did not improve from 0.53427\n",
            "42000/42000 [==============================] - 15s 348us/step - loss: 0.5356 - acc: 0.8789 - val_loss: 0.5958 - val_acc: 0.8843\n",
            "Epoch 16/30\n",
            "41952/42000 [============================>.] - ETA: 0s - loss: 0.5334 - acc: 0.8802\n",
            "Epoch 00016: val_loss did not improve from 0.53427\n",
            "42000/42000 [==============================] - 15s 347us/step - loss: 0.5331 - acc: 0.8802 - val_loss: 0.5581 - val_acc: 0.8848\n",
            "Epoch 17/30\n",
            "41920/42000 [============================>.] - ETA: 0s - loss: 0.5259 - acc: 0.8797\n",
            "Epoch 00017: val_loss did not improve from 0.53427\n",
            "42000/42000 [==============================] - 15s 347us/step - loss: 0.5260 - acc: 0.8797 - val_loss: 0.6092 - val_acc: 0.8725\n",
            "Epoch 18/30\n",
            "41984/42000 [============================>.] - ETA: 0s - loss: 0.5281 - acc: 0.8813\n",
            "Epoch 00018: val_loss did not improve from 0.53427\n",
            "42000/42000 [==============================] - 15s 347us/step - loss: 0.5280 - acc: 0.8813 - val_loss: 0.5484 - val_acc: 0.8843\n",
            "Epoch 19/30\n",
            "41920/42000 [============================>.] - ETA: 0s - loss: 0.5258 - acc: 0.8812\n",
            "Epoch 00019: val_loss did not improve from 0.53427\n",
            "42000/42000 [==============================] - 15s 348us/step - loss: 0.5257 - acc: 0.8811 - val_loss: 0.5880 - val_acc: 0.8754\n",
            "Epoch 20/30\n",
            "41824/42000 [============================>.] - ETA: 0s - loss: 0.5278 - acc: 0.8820\n",
            "Epoch 00020: val_loss did not improve from 0.53427\n",
            "42000/42000 [==============================] - 15s 348us/step - loss: 0.5275 - acc: 0.8820 - val_loss: 0.5537 - val_acc: 0.8830\n",
            "Epoch 21/30\n",
            "41824/42000 [============================>.] - ETA: 0s - loss: 0.5307 - acc: 0.8811\n",
            "Epoch 00021: val_loss did not improve from 0.53427\n",
            "42000/42000 [==============================] - 15s 347us/step - loss: 0.5309 - acc: 0.8811 - val_loss: 0.5678 - val_acc: 0.8822\n",
            "Epoch 22/30\n",
            "41824/42000 [============================>.] - ETA: 0s - loss: 0.5321 - acc: 0.8801\n",
            "Epoch 00022: val_loss did not improve from 0.53427\n",
            "42000/42000 [==============================] - 15s 347us/step - loss: 0.5316 - acc: 0.8802 - val_loss: 0.5835 - val_acc: 0.8804\n",
            "Epoch 23/30\n",
            "41920/42000 [============================>.] - ETA: 0s - loss: 0.5319 - acc: 0.8796\n",
            "Epoch 00023: val_loss did not improve from 0.53427\n",
            "42000/42000 [==============================] - 15s 347us/step - loss: 0.5321 - acc: 0.8796 - val_loss: 0.6401 - val_acc: 0.8655\n",
            "Epoch 24/30\n",
            "41824/42000 [============================>.] - ETA: 0s - loss: 0.5347 - acc: 0.8781\n",
            "Epoch 00024: val_loss did not improve from 0.53427\n",
            "42000/42000 [==============================] - 15s 347us/step - loss: 0.5351 - acc: 0.8781 - val_loss: 0.6063 - val_acc: 0.8681\n",
            "Epoch 25/30\n",
            "41952/42000 [============================>.] - ETA: 0s - loss: 0.5360 - acc: 0.8777\n",
            "Epoch 00025: val_loss did not improve from 0.53427\n",
            "42000/42000 [==============================] - 15s 348us/step - loss: 0.5357 - acc: 0.8778 - val_loss: 0.5540 - val_acc: 0.8802\n",
            "Epoch 26/30\n",
            "41856/42000 [============================>.] - ETA: 0s - loss: 0.5348 - acc: 0.8792\n",
            "Epoch 00026: val_loss did not improve from 0.53427\n",
            "42000/42000 [==============================] - 15s 349us/step - loss: 0.5355 - acc: 0.8791 - val_loss: 0.6297 - val_acc: 0.8588\n",
            "Epoch 27/30\n",
            "41952/42000 [============================>.] - ETA: 0s - loss: 0.5410 - acc: 0.8768\n",
            "Epoch 00027: val_loss did not improve from 0.53427\n",
            "42000/42000 [==============================] - 15s 347us/step - loss: 0.5406 - acc: 0.8769 - val_loss: 0.6068 - val_acc: 0.8693\n",
            "Epoch 28/30\n",
            "41952/42000 [============================>.] - ETA: 0s - loss: 0.5415 - acc: 0.8774\n",
            "Epoch 00028: val_loss did not improve from 0.53427\n",
            "42000/42000 [==============================] - 15s 347us/step - loss: 0.5412 - acc: 0.8775 - val_loss: 0.5927 - val_acc: 0.8740\n",
            "Epoch 29/30\n",
            "41888/42000 [============================>.] - ETA: 0s - loss: 0.5443 - acc: 0.8776\n",
            "Epoch 00029: val_loss did not improve from 0.53427\n",
            "42000/42000 [==============================] - 15s 346us/step - loss: 0.5441 - acc: 0.8775 - val_loss: 0.5935 - val_acc: 0.8713\n",
            "Epoch 30/30\n",
            "41920/42000 [============================>.] - ETA: 0s - loss: 0.5460 - acc: 0.8777\n",
            "Epoch 00030: val_loss did not improve from 0.53427\n",
            "42000/42000 [==============================] - 15s 347us/step - loss: 0.5456 - acc: 0.8779 - val_loss: 0.6453 - val_acc: 0.8684\n"
          ],
          "name": "stdout"
        }
      ]
    },
    {
      "metadata": {
        "id": "1IY1rLys036E",
        "colab_type": "text"
      },
      "cell_type": "markdown",
      "source": [
        "### Plotting results\n",
        "\n",
        "Define functions to plot training loss and validation loss of the training process. Do the same for training accuracy and validation accuracy."
      ]
    },
    {
      "metadata": {
        "id": "VmJgV0y1OPeA",
        "colab_type": "code",
        "colab": {}
      },
      "cell_type": "code",
      "source": [
        "def get_loss(history = history):\n",
        "  loss = history.history['loss']\n",
        "  val_loss = history.history['val_loss']  \n",
        "  return loss, val_loss\n",
        "\n",
        "def get_acc(history = history):\n",
        "  acc = history.history['acc']\n",
        "  val_acc = history.history['val_acc']\n",
        "  return acc, val_acc\n",
        "\n",
        "def get_epochs(no_epochs = no_epochs):\n",
        "  epochs = range(1, no_epochs + 1)\n",
        "  return epochs\n",
        "\n",
        "\n",
        "def plot_loss(history = history, no_epochs = no_epochs):\n",
        "  epochs = get_epochs(no_epochs)\n",
        "  loss, val_loss = get_loss(history)\n",
        "  plt.plot(epochs, loss, 'ko', label = 'Training Loss')\n",
        "  plt.plot(epochs, val_loss, 'k', label = 'Validation Loss')\n",
        "  plt.xlabel('Epochs')\n",
        "  plt.ylabel('Loss')\n",
        "  plt.title('Training and Validation Loss')\n",
        "  plt.legend()\n",
        "  \n",
        "def plot_acc(history = history, no_epochs = no_epochs):\n",
        "  epochs = get_epochs(no_epochs)\n",
        "  acc, val_acc = get_acc(history)\n",
        "  plt.plot(epochs, acc, 'bo', label = 'Training Accuracy')\n",
        "  plt.plot(epochs, val_acc, 'b', label = 'Validation Accuracy')\n",
        "  plt.xlabel('Epochs')\n",
        "  plt.ylabel('Accuracy')\n",
        "  plt.title('Training and Validation Accuracy')\n",
        "  plt.legend()"
      ],
      "execution_count": 0,
      "outputs": []
    },
    {
      "metadata": {
        "id": "uAXxrVziPEhV",
        "colab_type": "code",
        "colab": {
          "base_uri": "https://localhost:8080/",
          "height": 294
        },
        "outputId": "da7da57e-a5f0-497e-ba21-c996756be1e0"
      },
      "cell_type": "code",
      "source": [
        "plot_loss()"
      ],
      "execution_count": 165,
      "outputs": [
        {
          "output_type": "display_data",
          "data": {
            "image/png": "[encoded data removed]",
            "text/plain": [
              "<matplotlib.figure.Figure at 0x7fd743fa2cf8>"
            ]
          },
          "metadata": {
            "tags": []
          }
        }
      ]
    },
    {
      "metadata": {
        "id": "s6h3H1XB-X-C",
        "colab_type": "code",
        "colab": {
          "base_uri": "https://localhost:8080/",
          "height": 294
        },
        "outputId": "52e2105d-5d46-469c-d99a-fe03f58207f7"
      },
      "cell_type": "code",
      "source": [
        "plot_acc()"
      ],
      "execution_count": 166,
      "outputs": [
        {
          "output_type": "display_data",
          "data": {
            "image/png": "[encoded data removed]",
            "text/plain": [
              "<matplotlib.figure.Figure at 0x7fd743f31c88>"
            ]
          },
          "metadata": {
            "tags": []
          }
        }
      ]
    },
    {
      "metadata": {
        "id": "-xHABqov1L7R",
        "colab_type": "text"
      },
      "cell_type": "markdown",
      "source": [
        "### Score on test data"
      ]
    },
    {
      "metadata": {
        "id": "QAelfJbUJjEG",
        "colab_type": "code",
        "colab": {
          "base_uri": "https://localhost:8080/",
          "height": 51
        },
        "outputId": "5f81237d-44ca-4c32-9612-fcd73aaa1401"
      },
      "cell_type": "code",
      "source": [
        "model = keras.models.load_model(\"numbers_2.hdf5\")\n",
        "model.evaluate(x_test,y_test)"
      ],
      "execution_count": 174,
      "outputs": [
        {
          "output_type": "stream",
          "text": [
            "60000/60000 [==============================] - 13s 208us/step\n"
          ],
          "name": "stdout"
        },
        {
          "output_type": "execute_result",
          "data": {
            "text/plain": [
              "[0.5301458906372388, 0.88785]"
            ]
          },
          "metadata": {
            "tags": []
          },
          "execution_count": 174
        }
      ]
    },
    {
      "metadata": {
        "id": "cM8Jz6xh13AW",
        "colab_type": "text"
      },
      "cell_type": "markdown",
      "source": [
        "### Plotting activations \n",
        "\n",
        "We plot activation of the some filters of some layers of the CNN."
      ]
    },
    {
      "metadata": {
        "id": "SVAUCFMYYlc5",
        "colab_type": "code",
        "colab": {}
      },
      "cell_type": "code",
      "source": [
        "from tensorflow.keras.models import Model\n",
        "\n",
        "def get_activations(model, sample):\n",
        "  layer_outputs = [layer.output for layer in model.layers]\n",
        "  activation_model = Model(inputs=model.input, outputs=layer_outputs)\n",
        "  activations = activation_model.predict(sample) #change the index for x_train[index] to use another image\n",
        "  return activations\n",
        "  \n",
        "\n",
        "#when you call the function, col_size*row_size must be equal to the number of filters in that conv layer\n",
        "def display_activation(activations, col_size, row_size, act_index): \n",
        "    activation = activations[act_index] #act_index is the index of the layer eg. 0 is the first layer\n",
        "    activation_index=0\n",
        "    fig, ax = plt.subplots(row_size, col_size, figsize=(row_size*5,col_size*5))\n",
        "    for row in range(0,row_size):\n",
        "        for col in range(0,col_size):\n",
        "            ax[row][col].imshow(activation[0, :, :, activation_index], cmap='gray')\n",
        "            activation_index += 1"
      ],
      "execution_count": 0,
      "outputs": []
    },
    {
      "metadata": {
        "id": "1q7b30iNaUQ1",
        "colab_type": "code",
        "colab": {
          "base_uri": "https://localhost:8080/",
          "height": 1155
        },
        "outputId": "ed37ff08-476e-4682-95c7-82e4168aa0e6"
      },
      "cell_type": "code",
      "source": [
        "layer_to_inspect = 1\n",
        "x = x_train[48].reshape(1,28, 84, 1)\n",
        "activations = get_activations(model, x)\n",
        "display_activation(activations, 4, 8, layer_to_inspect)"
      ],
      "execution_count": 181,
      "outputs": [
        {
          "output_type": "display_data",
          "data": {
            "image/png": "[encoded data removed]",
            "text/plain": [
              "<matplotlib.figure.Figure at 0x7fd73f8fec50>"
            ]
          },
          "metadata": {
            "tags": []
          }
        }
      ]
    },
    {
      "metadata": {
        "id": "nUydbv66kKZb",
        "colab_type": "text"
      },
      "cell_type": "markdown",
      "source": [
        "# Addition \n",
        "\n",
        "Given a pair of numbers, we will create an **RNN** that learns to output their sum. \n",
        "We will use the original generator function to generate data for this problem, but will also *normalize* the pixels. \n",
        "\n",
        "We will use **30 000 training samples** and **3 000 test samples**.\n"
      ]
    },
    {
      "metadata": {
        "id": "RlONLo7k1eI0",
        "colab_type": "code",
        "colab": {
          "base_uri": "https://localhost:8080/",
          "height": 51
        },
        "outputId": "28754443-6086-484a-a72b-86f1bd890e8f"
      },
      "cell_type": "code",
      "source": [
        "%%time\n",
        "train_size = 30000\n",
        "test_size = 3000\n",
        "_, X_train, Y_train = generate_data(training_generator(train_size))\n",
        "_, X_test, Y_test = generate_data(test_generator(test_size))"
      ],
      "execution_count": 5,
      "outputs": [
        {
          "output_type": "stream",
          "text": [
            "CPU times: user 2min 29s, sys: 2.13 s, total: 2min 31s\n",
            "Wall time: 2min 31s\n"
          ],
          "name": "stdout"
        }
      ]
    },
    {
      "metadata": {
        "id": "DVARNKe63XT8",
        "colab_type": "text"
      },
      "cell_type": "markdown",
      "source": [
        "Obviously, we can define a simple MLP that does addition of two numbers. With a *Dense* layer of a **single neuron** with **weights set to 1** and **bias set to 0**, the network will perform addition of two input numbers.\n",
        "\n",
        "But the problem at hand will be solved with an RNN, to illustrate training of reccurent neural networks."
      ]
    },
    {
      "metadata": {
        "id": "eBEqZXBeUL1o",
        "colab_type": "code",
        "colab": {
          "base_uri": "https://localhost:8080/",
          "height": 34
        },
        "outputId": "a980c6b4-b4c2-42af-e3ac-3666f54f809c"
      },
      "cell_type": "code",
      "source": [
        "\n",
        "# ADDITION MLP\n",
        "adder = keras.models.Sequential()\n",
        "adder.add(keras.layers.Flatten( input_shape = (2,)))\n",
        "adder.add(keras.layers.Dense(1, weights = [np.array([[1], [1]]), np.array([0])]))\n",
        "adder.compile(loss='mean_squared_error', optimizer='adam', metrics = ['accuracy'])\n",
        "\n",
        "predictions = adder.predict(X_test)\n",
        "correct_labels = np.sum(predictions == Y_test)\n",
        "print('Accuracy of simple MLP : {}'.format( correct_labels / len(predictions) ))\n"
      ],
      "execution_count": 6,
      "outputs": [
        {
          "output_type": "stream",
          "text": [
            "Accuracy of simple MLP : 1.0\n"
          ],
          "name": "stdout"
        }
      ]
    },
    {
      "metadata": {
        "id": "YiDb-F4F33ep",
        "colab_type": "text"
      },
      "cell_type": "markdown",
      "source": [
        "## Input / Output Preprocessing\n",
        "\n",
        "To treat the problem as a **sequence-to-sequence** one, we will encode input and output as follow :\n",
        "\n",
        "Each of the numbers will be converted to a padded string of three characters and the numbers will be concatenated afterwards. \n",
        "Output  will be a three character string representing the addition of the numbers.\n",
        "\n",
        "```\n",
        "Input : (23, 101) -> '023101' \n",
        "Output : '124' \n",
        "```\n",
        "To feed this data into our model, we will **one-hot encode** each of the digits of the sequence and thus will obtain following input and output sizes : \n",
        "\n",
        "```\n",
        "input.shape == (6,10)\n",
        "output.shape == (3,10)\n"
      ]
    },
    {
      "metadata": {
        "id": "j-iNZeLPvR-B",
        "colab_type": "code",
        "colab": {
          "base_uri": "https://localhost:8080/",
          "height": 34
        },
        "outputId": "40d43d8c-d1d7-4733-f18a-a9e2dc41b49e"
      },
      "cell_type": "code",
      "source": [
        "from keras.utils import to_categorical\n",
        "\n",
        "def stringify_X(X):\n",
        "  X_S = [''.join([str(number).zfill(3) for number in pair]) for pair in X.squeeze()]\n",
        "  return X_S\n",
        "\n",
        "def stringify_Y(Y):\n",
        "  Y_S = [str(number).zfill(3) for number in Y.squeeze()]\n",
        "  return Y_S\n",
        "  \n",
        "def onehot(arr):\n",
        "  arr_split = np.array( [list(string) for string in arr])\n",
        "  arr_OH = to_categorical(arr_split, num_classes = 10)\n",
        "  return arr_OH\n",
        "\n",
        "def encode_X(X):\n",
        "  X_S = stringify_X(X)\n",
        "  X_OH = onehot(X_S)\n",
        "  return X_OH\n",
        "\n",
        "def encode_Y(Y):\n",
        "  Y_S = stringify_Y(Y)\n",
        "  Y_OH = onehot(Y_S)\n",
        "  return Y_OH"
      ],
      "execution_count": 7,
      "outputs": [
        {
          "output_type": "stream",
          "text": [
            "Using TensorFlow backend.\n"
          ],
          "name": "stderr"
        }
      ]
    },
    {
      "metadata": {
        "id": "jy11FtBXUiGZ",
        "colab_type": "code",
        "colab": {}
      },
      "cell_type": "code",
      "source": [
        "X_train_OH, Y_train_OH = encode_X(X_train), encode_Y(Y_train)\n",
        "x_test, y_test = encode_X(X_test), encode_Y(Y_test)"
      ],
      "execution_count": 0,
      "outputs": []
    },
    {
      "metadata": {
        "id": "QhGJPhYXqtnC",
        "colab_type": "code",
        "colab": {}
      },
      "cell_type": "code",
      "source": [
        "from sklearn.model_selection import train_test_split\n",
        "x_train, x_val, y_train, y_val = train_test_split(X_train_OH, Y_train_OH, test_size = 0.3, random_state = 48)"
      ],
      "execution_count": 0,
      "outputs": []
    },
    {
      "metadata": {
        "id": "7kJ5lgJY53NG",
        "colab_type": "text"
      },
      "cell_type": "markdown",
      "source": [
        "## Model arhitecture\n",
        "\n",
        "We will use a **encoder-decoder** arhitecture for the task at hand. \n",
        "\n",
        "First, we **encode** the input sequence using a **LSTM** of *128* units and will get an output of *128*.\n",
        "\n",
        "The **decoder** will be another **LSTM** layer of *128* units. Output of the encoder will be repeatedly served to the decoder **3 times** using a **Repeat Vector** layer, because the maximum length of our addition output is 3 digits :\n",
        "```\n",
        "255 + 255 = 510\n",
        "```\n",
        "We then apply a **Dense** layer of *10 neurons* to every temporal slice of the input. This layer will decide which digit we keep for each of the step of the output sequence. \n",
        "\n",
        "To apply the above layer to every temporal slice, we wrap it in a **TimeDimensional** layer. Because it expects the first dimension of the input to be the timesteps, we must set **return_sequences** to *True* on the decoder layer. This makes the decoder output the whole output steps so far in the following form : \n",
        "\n",
        "```\n",
        "output_so_far.shape == (num_samples, timesteps, output_dim)\n",
        "```\n",
        "\n",
        "We choose **rmsprop** as the optimizer of this problem because of its inclined advantage in *rnn arhitectures*.\n",
        "\n",
        "\n",
        "\n"
      ]
    },
    {
      "metadata": {
        "id": "J1xpikoOrM9O",
        "colab_type": "code",
        "outputId": "046d850f-d1f7-48fd-8162-944d59049917",
        "colab": {
          "base_uri": "https://localhost:8080/",
          "height": 272
        }
      },
      "cell_type": "code",
      "source": [
        "model = keras.models.Sequential()\n",
        "model.add(keras.layers.LSTM(128, input_shape=(6, 10)))\n",
        "model.add(keras.layers.RepeatVector(3))\n",
        "model.add(keras.layers.LSTM(128, return_sequences=True))\n",
        "model.add(keras.layers.TimeDistributed(keras.layers.Dense(10, activation='softmax')))\n",
        "\n",
        "model.compile(loss='categorical_crossentropy',\n",
        "              optimizer='rmsprop',\n",
        "              metrics=['accuracy'])\n",
        "\n",
        "model.summary()\n"
      ],
      "execution_count": 10,
      "outputs": [
        {
          "output_type": "stream",
          "text": [
            "_________________________________________________________________\n",
            "Layer (type)                 Output Shape              Param #   \n",
            "=================================================================\n",
            "lstm (LSTM)                  (None, 128)               71168     \n",
            "_________________________________________________________________\n",
            "repeat_vector (RepeatVector) (None, 3, 128)            0         \n",
            "_________________________________________________________________\n",
            "lstm_1 (LSTM)                (None, 3, 128)            131584    \n",
            "_________________________________________________________________\n",
            "time_distributed (TimeDistri (None, 3, 10)             1290      \n",
            "=================================================================\n",
            "Total params: 204,042\n",
            "Trainable params: 204,042\n",
            "Non-trainable params: 0\n",
            "_________________________________________________________________\n"
          ],
          "name": "stdout"
        }
      ]
    },
    {
      "metadata": {
        "id": "Z51SakOy_wRh",
        "colab_type": "text"
      },
      "cell_type": "markdown",
      "source": [
        "## Fitting"
      ]
    },
    {
      "metadata": {
        "id": "jhZwCkCFsAln",
        "colab_type": "code",
        "outputId": "0eaba8ae-2088-4961-b909-5a1258193bab",
        "colab": {
          "base_uri": "https://localhost:8080/",
          "height": 2108
        }
      },
      "cell_type": "code",
      "source": [
        "no_epochs = 30\n",
        "checkpointer = keras.callbacks.ModelCheckpoint(filepath=\"add.hdf5\", verbose=1, save_best_only=True)\n",
        "history = model.fit(x_train, y_train, epochs = no_epochs, \n",
        "                    validation_data=(x_val, y_val), callbacks=[checkpointer])\n",
        "model.evaluate(x_test, y_test)"
      ],
      "execution_count": 11,
      "outputs": [
        {
          "output_type": "stream",
          "text": [
            "Train on 21000 samples, validate on 9000 samples\n",
            "Epoch 1/30\n",
            "20960/21000 [============================>.] - ETA: 0s - loss: 1.9083 - acc: 0.2445\n",
            "Epoch 00001: val_loss improved from inf to 1.89729, saving model to add.hdf5\n",
            "21000/21000 [==============================] - 23s 1ms/step - loss: 1.9081 - acc: 0.2446 - val_loss: 1.8973 - val_acc: 0.2492\n",
            "Epoch 2/30\n",
            "20960/21000 [============================>.] - ETA: 0s - loss: 1.7519 - acc: 0.3138\n",
            "Epoch 00002: val_loss improved from 1.89729 to 1.67201, saving model to add.hdf5\n",
            "21000/21000 [==============================] - 22s 1ms/step - loss: 1.7517 - acc: 0.3139 - val_loss: 1.6720 - val_acc: 0.3483\n",
            "Epoch 3/30\n",
            "20960/21000 [============================>.] - ETA: 0s - loss: 1.5454 - acc: 0.4064\n",
            "Epoch 00003: val_loss improved from 1.67201 to 1.55726, saving model to add.hdf5\n",
            "21000/21000 [==============================] - 22s 1ms/step - loss: 1.5453 - acc: 0.4066 - val_loss: 1.5573 - val_acc: 0.3933\n",
            "Epoch 4/30\n",
            "20960/21000 [============================>.] - ETA: 0s - loss: 1.3499 - acc: 0.4733\n",
            "Epoch 00004: val_loss improved from 1.55726 to 1.32386, saving model to add.hdf5\n",
            "21000/21000 [==============================] - 22s 1ms/step - loss: 1.3500 - acc: 0.4732 - val_loss: 1.3239 - val_acc: 0.4653\n",
            "Epoch 5/30\n",
            "20960/21000 [============================>.] - ETA: 0s - loss: 1.1661 - acc: 0.5433\n",
            "Epoch 00005: val_loss improved from 1.32386 to 1.03665, saving model to add.hdf5\n",
            "21000/21000 [==============================] - 22s 1ms/step - loss: 1.1658 - acc: 0.5436 - val_loss: 1.0367 - val_acc: 0.6116\n",
            "Epoch 6/30\n",
            "20960/21000 [============================>.] - ETA: 0s - loss: 0.8889 - acc: 0.6562\n",
            "Epoch 00006: val_loss improved from 1.03665 to 0.73807, saving model to add.hdf5\n",
            "21000/21000 [==============================] - 22s 1ms/step - loss: 0.8887 - acc: 0.6562 - val_loss: 0.7381 - val_acc: 0.7115\n",
            "Epoch 7/30\n",
            "20960/21000 [============================>.] - ETA: 0s - loss: 0.5644 - acc: 0.8011\n",
            "Epoch 00007: val_loss improved from 0.73807 to 0.50102, saving model to add.hdf5\n",
            "21000/21000 [==============================] - 23s 1ms/step - loss: 0.5642 - acc: 0.8011 - val_loss: 0.5010 - val_acc: 0.8164\n",
            "Epoch 8/30\n",
            "20960/21000 [============================>.] - ETA: 0s - loss: 0.3744 - acc: 0.8836\n",
            "Epoch 00008: val_loss improved from 0.50102 to 0.43187, saving model to add.hdf5\n",
            "21000/21000 [==============================] - 22s 1ms/step - loss: 0.3743 - acc: 0.8837 - val_loss: 0.4319 - val_acc: 0.8547\n",
            "Epoch 9/30\n",
            "20960/21000 [============================>.] - ETA: 0s - loss: 0.2631 - acc: 0.9232\n",
            "Epoch 00009: val_loss improved from 0.43187 to 0.17872, saving model to add.hdf5\n",
            "21000/21000 [==============================] - 22s 1ms/step - loss: 0.2629 - acc: 0.9233 - val_loss: 0.1787 - val_acc: 0.9631\n",
            "Epoch 10/30\n",
            "20960/21000 [============================>.] - ETA: 0s - loss: 0.1883 - acc: 0.9471\n",
            "Epoch 00010: val_loss improved from 0.17872 to 0.14819, saving model to add.hdf5\n",
            "21000/21000 [==============================] - 22s 1ms/step - loss: 0.1882 - acc: 0.9472 - val_loss: 0.1482 - val_acc: 0.9629\n",
            "Epoch 11/30\n",
            "20960/21000 [============================>.] - ETA: 0s - loss: 0.1395 - acc: 0.9611\n",
            "Epoch 00011: val_loss improved from 0.14819 to 0.12928, saving model to add.hdf5\n",
            "21000/21000 [==============================] - 22s 1ms/step - loss: 0.1394 - acc: 0.9611 - val_loss: 0.1293 - val_acc: 0.9622\n",
            "Epoch 12/30\n",
            "20960/21000 [============================>.] - ETA: 0s - loss: 0.1085 - acc: 0.9702\n",
            "Epoch 00012: val_loss improved from 0.12928 to 0.09210, saving model to add.hdf5\n",
            "21000/21000 [==============================] - 22s 1ms/step - loss: 0.1084 - acc: 0.9703 - val_loss: 0.0921 - val_acc: 0.9714\n",
            "Epoch 13/30\n",
            "20960/21000 [============================>.] - ETA: 0s - loss: 0.0865 - acc: 0.9760\n",
            "Epoch 00013: val_loss did not improve from 0.09210\n",
            "21000/21000 [==============================] - 22s 1ms/step - loss: 0.0868 - acc: 0.9759 - val_loss: 0.1666 - val_acc: 0.9406\n",
            "Epoch 14/30\n",
            "20960/21000 [============================>.] - ETA: 0s - loss: 0.0687 - acc: 0.9810\n",
            "Epoch 00014: val_loss improved from 0.09210 to 0.03776, saving model to add.hdf5\n",
            "21000/21000 [==============================] - 22s 1ms/step - loss: 0.0686 - acc: 0.9810 - val_loss: 0.0378 - val_acc: 0.9927\n",
            "Epoch 15/30\n",
            "20960/21000 [============================>.] - ETA: 0s - loss: 0.0564 - acc: 0.9845\n",
            "Epoch 00015: val_loss did not improve from 0.03776\n",
            "21000/21000 [==============================] - 22s 1ms/step - loss: 0.0564 - acc: 0.9846 - val_loss: 0.0577 - val_acc: 0.9864\n",
            "Epoch 16/30\n",
            "20960/21000 [============================>.] - ETA: 0s - loss: 0.0493 - acc: 0.9865\n",
            "Epoch 00016: val_loss improved from 0.03776 to 0.02144, saving model to add.hdf5\n",
            "21000/21000 [==============================] - 22s 1ms/step - loss: 0.0493 - acc: 0.9865 - val_loss: 0.0214 - val_acc: 0.9965\n",
            "Epoch 17/30\n",
            "20960/21000 [============================>.] - ETA: 0s - loss: 0.0399 - acc: 0.9889\n",
            "Epoch 00017: val_loss did not improve from 0.02144\n",
            "21000/21000 [==============================] - 22s 1ms/step - loss: 0.0399 - acc: 0.9889 - val_loss: 0.0276 - val_acc: 0.9940\n",
            "Epoch 18/30\n",
            "20960/21000 [============================>.] - ETA: 0s - loss: 0.0361 - acc: 0.9902\n",
            "Epoch 00018: val_loss did not improve from 0.02144\n",
            "21000/21000 [==============================] - 22s 1ms/step - loss: 0.0367 - acc: 0.9900 - val_loss: 0.0690 - val_acc: 0.9760\n",
            "Epoch 19/30\n",
            "20960/21000 [============================>.] - ETA: 0s - loss: 0.0320 - acc: 0.9909\n",
            "Epoch 00019: val_loss improved from 0.02144 to 0.01172, saving model to add.hdf5\n",
            "21000/21000 [==============================] - 22s 1ms/step - loss: 0.0319 - acc: 0.9909 - val_loss: 0.0117 - val_acc: 0.9979\n",
            "Epoch 20/30\n",
            "20960/21000 [============================>.] - ETA: 0s - loss: 0.0278 - acc: 0.9922\n",
            "Epoch 00020: val_loss did not improve from 0.01172\n",
            "21000/21000 [==============================] - 22s 1ms/step - loss: 0.0278 - acc: 0.9921 - val_loss: 0.1973 - val_acc: 0.9435\n",
            "Epoch 21/30\n",
            "20960/21000 [============================>.] - ETA: 0s - loss: 0.0242 - acc: 0.9929\n",
            "Epoch 00021: val_loss did not improve from 0.01172\n",
            "21000/21000 [==============================] - 22s 1ms/step - loss: 0.0242 - acc: 0.9929 - val_loss: 0.0255 - val_acc: 0.9925\n",
            "Epoch 22/30\n",
            "20960/21000 [============================>.] - ETA: 0s - loss: 0.0238 - acc: 0.9934\n",
            "Epoch 00022: val_loss did not improve from 0.01172\n",
            "21000/21000 [==============================] - 22s 1ms/step - loss: 0.0238 - acc: 0.9934 - val_loss: 0.0212 - val_acc: 0.9931\n",
            "Epoch 23/30\n",
            "20960/21000 [============================>.] - ETA: 0s - loss: 0.0219 - acc: 0.9934\n",
            "Epoch 00023: val_loss improved from 0.01172 to 0.00852, saving model to add.hdf5\n",
            "21000/21000 [==============================] - 22s 1ms/step - loss: 0.0218 - acc: 0.9934 - val_loss: 0.0085 - val_acc: 0.9979\n",
            "Epoch 24/30\n",
            "20960/21000 [============================>.] - ETA: 0s - loss: 0.0196 - acc: 0.9941\n",
            "Epoch 00024: val_loss improved from 0.00852 to 0.00760, saving model to add.hdf5\n",
            "21000/21000 [==============================] - 22s 1ms/step - loss: 0.0195 - acc: 0.9941 - val_loss: 0.0076 - val_acc: 0.9983\n",
            "Epoch 25/30\n",
            "20960/21000 [============================>.] - ETA: 0s - loss: 0.0187 - acc: 0.9944\n",
            "Epoch 00025: val_loss did not improve from 0.00760\n",
            "21000/21000 [==============================] - 22s 1ms/step - loss: 0.0187 - acc: 0.9944 - val_loss: 0.0210 - val_acc: 0.9931\n",
            "Epoch 26/30\n",
            "20960/21000 [============================>.] - ETA: 0s - loss: 0.0164 - acc: 0.9952\n",
            "Epoch 00026: val_loss did not improve from 0.00760\n",
            "21000/21000 [==============================] - 22s 1ms/step - loss: 0.0163 - acc: 0.9952 - val_loss: 0.0104 - val_acc: 0.9974\n",
            "Epoch 27/30\n",
            "20960/21000 [============================>.] - ETA: 0s - loss: 0.0174 - acc: 0.9951\n",
            "Epoch 00027: val_loss did not improve from 0.00760\n",
            "21000/21000 [==============================] - 22s 1ms/step - loss: 0.0175 - acc: 0.9951 - val_loss: 0.0455 - val_acc: 0.9838\n",
            "Epoch 28/30\n",
            "20960/21000 [============================>.] - ETA: 0s - loss: 0.0131 - acc: 0.9963\n",
            "Epoch 00028: val_loss did not improve from 0.00760\n",
            "21000/21000 [==============================] - 22s 1ms/step - loss: 0.0132 - acc: 0.9963 - val_loss: 0.0126 - val_acc: 0.9957\n",
            "Epoch 29/30\n",
            "20960/21000 [============================>.] - ETA: 0s - loss: 0.0143 - acc: 0.9959\n",
            "Epoch 00029: val_loss did not improve from 0.00760\n",
            "21000/21000 [==============================] - 22s 1ms/step - loss: 0.0143 - acc: 0.9959 - val_loss: 0.0102 - val_acc: 0.9966\n",
            "Epoch 30/30\n",
            "20960/21000 [============================>.] - ETA: 0s - loss: 0.0139 - acc: 0.9959\n",
            "Epoch 00030: val_loss improved from 0.00760 to 0.00737, saving model to add.hdf5\n",
            "21000/21000 [==============================] - 22s 1ms/step - loss: 0.0140 - acc: 0.9959 - val_loss: 0.0074 - val_acc: 0.9978\n",
            "3000/3000 [==============================] - 1s 347us/step\n"
          ],
          "name": "stdout"
        },
        {
          "output_type": "execute_result",
          "data": {
            "text/plain": [
              "[0.0073602577500666184, 0.9978888867696126]"
            ]
          },
          "metadata": {
            "tags": []
          },
          "execution_count": 11
        }
      ]
    },
    {
      "metadata": {
        "id": "WycpkDff408T",
        "colab_type": "code",
        "colab": {}
      },
      "cell_type": "code",
      "source": [
        "files.download(\"add.hdf5\")"
      ],
      "execution_count": 0,
      "outputs": []
    },
    {
      "metadata": {
        "id": "646GLkBW_uM5",
        "colab_type": "text"
      },
      "cell_type": "markdown",
      "source": [
        "## Plotting\n",
        "Plot accuracy and loss throughout training process, both on training and validation data"
      ]
    },
    {
      "metadata": {
        "id": "jFz-qJAGXmAG",
        "colab_type": "code",
        "colab": {
          "base_uri": "https://localhost:8080/",
          "height": 294
        },
        "outputId": "89e839db-8a19-41d2-fdac-e579c932fe6c"
      },
      "cell_type": "code",
      "source": [
        "plot_loss()"
      ],
      "execution_count": 21,
      "outputs": [
        {
          "output_type": "display_data",
          "data": {
            "image/png": "[encoded data removed]",
            "text/plain": [
              "<matplotlib.figure.Figure at 0x7f3dbe1de2e8>"
            ]
          },
          "metadata": {
            "tags": []
          }
        }
      ]
    },
    {
      "metadata": {
        "id": "myulGSKjYTXX",
        "colab_type": "code",
        "colab": {
          "base_uri": "https://localhost:8080/",
          "height": 294
        },
        "outputId": "626253a9-244a-4d2c-a5d4-ea684ffc795f"
      },
      "cell_type": "code",
      "source": [
        "plot_acc()"
      ],
      "execution_count": 24,
      "outputs": [
        {
          "output_type": "display_data",
          "data": {
            "image/png": "[encoded data removed]",
            "text/plain": [
              "<matplotlib.figure.Figure at 0x7f3dbb883e80>"
            ]
          },
          "metadata": {
            "tags": []
          }
        }
      ]
    },
    {
      "metadata": {
        "id": "gH9Ndy31ANB4",
        "colab_type": "text"
      },
      "cell_type": "markdown",
      "source": [
        "## Evaluate the model\n",
        "\n",
        "Because of the way our **LSTM** arhitecture works, it counts as its output each of the digits of the sequence. \n",
        "```\n",
        "input = '023101'\n",
        "output = '128'\n",
        "real_output = '124'\n",
        "accuracy = 2 / 3 (66%)\n",
        "real_accuracy = 0 \n",
        "```\n",
        "Thus, if it correctly predicts two of three digits of a number, as above, it has *66%* accuracy, but its true accuracy on our problem is *0*, because it gave the wrong number. It esentially counts how many digits it got correctly, but we actually care how many numbers it got correctly.\n",
        "\n",
        "To measure this, we will make predictions with our network and compare the predictions with the test data.\n"
      ]
    },
    {
      "metadata": {
        "id": "XWF195k1Z2AL",
        "colab_type": "code",
        "colab": {
          "base_uri": "https://localhost:8080/",
          "height": 51
        },
        "outputId": "c44a1827-16fd-48bd-8617-d76e9938f03d"
      },
      "cell_type": "code",
      "source": [
        "model = tf.keras.models.load_model(\"add.hdf5\")\n",
        "model.evaluate(x_test, y_test)"
      ],
      "execution_count": 59,
      "outputs": [
        {
          "output_type": "stream",
          "text": [
            "3000/3000 [==============================] - 4s 1ms/step\n"
          ],
          "name": "stdout"
        },
        {
          "output_type": "execute_result",
          "data": {
            "text/plain": [
              "[0.0073602577500666184, 0.9978888867696126]"
            ]
          },
          "metadata": {
            "tags": []
          },
          "execution_count": 59
        }
      ]
    },
    {
      "metadata": {
        "id": "MhEqrAiLOy7s",
        "colab_type": "code",
        "colab": {}
      },
      "cell_type": "code",
      "source": [
        "def true_accuracy(model, x_test, y_test):\n",
        "  predicted = model.predict(x_test)\n",
        "  predicted_OH = to_categorical(np.argmax(predicted, axis = 2), num_classes = 10)\n",
        "\n",
        "  bool_test = np.all(predicted_OH == y_test, axis = (1,2))\n",
        "  true_acc = np.sum(bool_test) / len(y_test)\n",
        "  return true_acc\n"
      ],
      "execution_count": 0,
      "outputs": []
    },
    {
      "metadata": {
        "id": "_XDyt9u-fIvA",
        "colab_type": "code",
        "colab": {
          "base_uri": "https://localhost:8080/",
          "height": 34
        },
        "outputId": "a716679f-77ab-4bd8-ff2c-2426adcb715c"
      },
      "cell_type": "code",
      "source": [
        "model = keras.models.load_model(\"add.hdf5\")\n",
        "\n",
        "true_acc = true_accuracy(model, x_test, y_test)\n",
        "print('True accuracy : {}'.format(true_acc))"
      ],
      "execution_count": 100,
      "outputs": [
        {
          "output_type": "stream",
          "text": [
            "True accuracy : 0.9936666666666667\n"
          ],
          "name": "stdout"
        }
      ]
    },
    {
      "metadata": {
        "id": "boBwxW4cKOiL",
        "colab_type": "text"
      },
      "cell_type": "markdown",
      "source": [
        "# End-to-End network\n",
        "\n",
        "We train a network that receives a pair of images with numbers and outputs their sum.\n",
        "We attempt to concatenate the above networks (referred below as **CNN** and **RNN**) in the following way :\n",
        "1. Concatenate two images and add them as input to the *CNN*. \n",
        "```\n",
        "input.shape == (28,168,1)\n",
        "```\n",
        "2. Remove the layer with **softmax**  from cnn and replace it with  a **reshape** layer. We reshape the output of the cnn and halve it to obtain pairs of parameters representing each image. \n",
        "```\n",
        "cnn_output.shape == (128)\n",
        "reshaped_output.shape == (2,64)\n",
        "```\n",
        "3. Run the obtained output through the **RNN**. "
      ]
    },
    {
      "metadata": {
        "id": "xWFRkGGjDCvE",
        "colab_type": "code",
        "outputId": "31cfd1e0-980a-431b-f7e5-7ea91c89c2fb",
        "colab": {
          "base_uri": "https://localhost:8080/",
          "height": 51
        }
      },
      "cell_type": "code",
      "source": [
        "%%time\n",
        "train_size = 30000\n",
        "test_size = 3000\n",
        "train_gen = training_generator(train_size)\n",
        "test_gen =  test_generator(test_size)\n",
        "X_train, _ , Y_train = generate_data(train_gen)\n",
        "X_test, _ , Y_test = generate_data(test_gen)"
      ],
      "execution_count": 29,
      "outputs": [
        {
          "output_type": "stream",
          "text": [
            "CPU times: user 2min 37s, sys: 1.99 s, total: 2min 39s\n",
            "Wall time: 2min 39s\n"
          ],
          "name": "stdout"
        }
      ]
    },
    {
      "metadata": {
        "id": "kI48ulmhSbri",
        "colab_type": "code",
        "colab": {}
      },
      "cell_type": "code",
      "source": [
        "#concatenate images\n",
        "X_train_CAT = np.array([np.hstack( (pair[0], pair[1])) for pair in X_train])\n",
        "x_test = np.array([np.hstack( (pair[0], pair[1])) for pair in X_test])\n",
        "Y_train_OH = encode_Y(Y_train)\n",
        "# Y_train_OH = to_categorical(Y_train, num_classes=510)\n",
        "y_test = encode_Y(Y_test)\n",
        "# y_test = to_categorical(Y_test, num_classes=510)"
      ],
      "execution_count": 0,
      "outputs": []
    },
    {
      "metadata": {
        "id": "IcuPDJTtTB1p",
        "colab_type": "code",
        "colab": {}
      },
      "cell_type": "code",
      "source": [
        "from sklearn.model_selection import train_test_split\n",
        "x_train, x_val, y_train, y_val = train_test_split(X_train_CAT, Y_train_OH, test_size = 0.3, random_state = 48)"
      ],
      "execution_count": 0,
      "outputs": []
    },
    {
      "metadata": {
        "id": "xs8ZvzixNCiY",
        "colab_type": "code",
        "colab": {
          "base_uri": "https://localhost:8080/",
          "height": 765
        },
        "outputId": "40daa153-e513-491e-d7c9-15b4e7f06a36"
      },
      "cell_type": "code",
      "source": [
        "cnn = keras.models.Sequential()\n",
        "cnn.add(tf.keras.layers.Conv2D(32, (3, 3), activation = 'relu', input_shape = (28, 168, 1)))\n",
        "cnn.add(tf.keras.layers.MaxPooling2D(2, 2))\n",
        "cnn.add(tf.keras.layers.Dropout(0.6))\n",
        "cnn.add(tf.keras.layers.Conv2D(64, (3, 3), activation = 'relu'))\n",
        "cnn.add(tf.keras.layers.MaxPooling2D(2, 2))\n",
        "cnn.add(tf.keras.layers.Dropout(0.6))\n",
        "cnn.add(tf.keras.layers.Conv2D(64, (3, 3), activation = 'relu'))\n",
        "cnn.add(tf.keras.layers.Flatten())\n",
        "cnn.add(tf.keras.layers.Dense(128, activation = 'relu'))\n",
        "# cnn.add(tf.keras.layers.Dropout(0.5))\n",
        "\n",
        "cnn.compile(optimizer = 'rmsprop',\n",
        "            loss='sparse_categorical_crossentropy',\n",
        "            metrics=['accuracy'])\n",
        "\n",
        "cnn.summary()\n",
        "\n",
        "\n",
        "model = keras.models.Sequential()\n",
        "model.add(cnn)\n",
        "\n",
        "# lstm\n",
        "model.add(tf.keras.layers.Reshape((2, 64)))\n",
        "model.add(tf.keras.layers.LSTM(128, kernel_initializer = 'random_normal', recurrent_initializer = 'random_normal'))\n",
        "model.add(tf.keras.layers.RepeatVector(3))\n",
        "model.add(tf.keras.layers.LSTM(128, return_sequences=True))\n",
        "model.add(tf.keras.layers.TimeDistributed(keras.layers.Dense(10, activation='softmax')))\n",
        "\n",
        "#convlstm\n",
        "# model = keras.models.Sequential()\n",
        "# model.add(tf.keras.layers.ConvLSTM2D(filters = 32, kernel_size = (3,3), activation = 'relu', \n",
        "#                                      padding = 'same', dropout = .2, input_shape = (28,168,1)))\n",
        "# model.add(tf.keras.layers.RepeatVector(3))\n",
        "# model.add(tf.keras.layers.ConvLSTM2D(filters = 32, kernel_size = (3,3), activation = 'relu', \n",
        "#                                      padding = 'same', dropout = .2 ))\n",
        "# model.add(tf.keras.layers.TimeDistributed(keras.layers.Dense(10, activation='softmax')))\n",
        "\n",
        "\n",
        "\n",
        "model.compile(optimizer='rmsprop',\n",
        "              loss='categorical_crossentropy',\n",
        "              metrics=['accuracy'])\n",
        "\n",
        "model.summary()\n"
      ],
      "execution_count": 32,
      "outputs": [
        {
          "output_type": "stream",
          "text": [
            "_________________________________________________________________\n",
            "Layer (type)                 Output Shape              Param #   \n",
            "=================================================================\n",
            "conv2d_9 (Conv2D)            (None, 26, 166, 32)       320       \n",
            "_________________________________________________________________\n",
            "max_pooling2d_6 (MaxPooling2 (None, 13, 83, 32)        0         \n",
            "_________________________________________________________________\n",
            "dropout_6 (Dropout)          (None, 13, 83, 32)        0         \n",
            "_________________________________________________________________\n",
            "conv2d_10 (Conv2D)           (None, 11, 81, 64)        18496     \n",
            "_________________________________________________________________\n",
            "max_pooling2d_7 (MaxPooling2 (None, 5, 40, 64)         0         \n",
            "_________________________________________________________________\n",
            "dropout_7 (Dropout)          (None, 5, 40, 64)         0         \n",
            "_________________________________________________________________\n",
            "conv2d_11 (Conv2D)           (None, 3, 38, 64)         36928     \n",
            "_________________________________________________________________\n",
            "flatten_3 (Flatten)          (None, 7296)              0         \n",
            "_________________________________________________________________\n",
            "dense_6 (Dense)              (None, 128)               934016    \n",
            "=================================================================\n",
            "Total params: 989,760\n",
            "Trainable params: 989,760\n",
            "Non-trainable params: 0\n",
            "_________________________________________________________________\n",
            "_________________________________________________________________\n",
            "Layer (type)                 Output Shape              Param #   \n",
            "=================================================================\n",
            "sequential_6 (Sequential)    (None, 128)               989760    \n",
            "_________________________________________________________________\n",
            "reshape_3 (Reshape)          (None, 2, 64)             0         \n",
            "_________________________________________________________________\n",
            "lstm_6 (LSTM)                (None, 128)               98816     \n",
            "_________________________________________________________________\n",
            "repeat_vector_3 (RepeatVecto (None, 3, 128)            0         \n",
            "_________________________________________________________________\n",
            "lstm_7 (LSTM)                (None, 3, 128)            131584    \n",
            "_________________________________________________________________\n",
            "time_distributed_3 (TimeDist (None, 3, 10)             1290      \n",
            "=================================================================\n",
            "Total params: 1,221,450\n",
            "Trainable params: 1,221,450\n",
            "Non-trainable params: 0\n",
            "_________________________________________________________________\n"
          ],
          "name": "stdout"
        }
      ]
    },
    {
      "metadata": {
        "id": "w97ue3RWRfS2",
        "colab_type": "text"
      },
      "cell_type": "markdown",
      "source": [
        "## Fitting"
      ]
    },
    {
      "metadata": {
        "id": "T0ulRSYBTnbK",
        "colab_type": "code",
        "colab": {
          "base_uri": "https://localhost:8080/",
          "height": 2074
        },
        "outputId": "2d376cc7-5f2b-4bd6-994f-ef578c696f30"
      },
      "cell_type": "code",
      "source": [
        "no_epochs = 30\n",
        "checkpointer = keras.callbacks.ModelCheckpoint(filepath=\"end_to_end_2.hdf5\", verbose=1, save_best_only=True)\n",
        "history = model.fit(x_train, y_train, epochs = no_epochs, validation_data= (x_val, y_val), callbacks=[checkpointer])"
      ],
      "execution_count": 33,
      "outputs": [
        {
          "output_type": "stream",
          "text": [
            "Train on 21000 samples, validate on 9000 samples\n",
            "Epoch 1/30\n",
            "20960/21000 [============================>.] - ETA: 0s - loss: 1.9442 - acc: 0.2261\n",
            "Epoch 00001: val_loss improved from inf to 1.90013, saving model to end_to_end_2.hdf5\n",
            "21000/21000 [==============================] - 34s 2ms/step - loss: 1.9440 - acc: 0.2262 - val_loss: 1.9001 - val_acc: 0.2493\n",
            "Epoch 2/30\n",
            "20960/21000 [============================>.] - ETA: 0s - loss: 1.8657 - acc: 0.2561\n",
            "Epoch 00002: val_loss improved from 1.90013 to 1.84230, saving model to end_to_end_2.hdf5\n",
            "21000/21000 [==============================] - 28s 1ms/step - loss: 1.8657 - acc: 0.2561 - val_loss: 1.8423 - val_acc: 0.2686\n",
            "Epoch 3/30\n",
            "20960/21000 [============================>.] - ETA: 0s - loss: 1.8288 - acc: 0.2717\n",
            "Epoch 00003: val_loss improved from 1.84230 to 1.81671, saving model to end_to_end_2.hdf5\n",
            "21000/21000 [==============================] - 28s 1ms/step - loss: 1.8288 - acc: 0.2718 - val_loss: 1.8167 - val_acc: 0.2818\n",
            "Epoch 4/30\n",
            "20960/21000 [============================>.] - ETA: 0s - loss: 1.7999 - acc: 0.2920\n",
            "Epoch 00004: val_loss improved from 1.81671 to 1.78647, saving model to end_to_end_2.hdf5\n",
            "21000/21000 [==============================] - 28s 1ms/step - loss: 1.7999 - acc: 0.2919 - val_loss: 1.7865 - val_acc: 0.2964\n",
            "Epoch 5/30\n",
            "20960/21000 [============================>.] - ETA: 0s - loss: 1.7736 - acc: 0.3058\n",
            "Epoch 00005: val_loss improved from 1.78647 to 1.77948, saving model to end_to_end_2.hdf5\n",
            "21000/21000 [==============================] - 28s 1ms/step - loss: 1.7735 - acc: 0.3058 - val_loss: 1.7795 - val_acc: 0.3033\n",
            "Epoch 6/30\n",
            "20992/21000 [============================>.] - ETA: 0s - loss: 1.7488 - acc: 0.3209\n",
            "Epoch 00006: val_loss improved from 1.77948 to 1.75229, saving model to end_to_end_2.hdf5\n",
            "21000/21000 [==============================] - 28s 1ms/step - loss: 1.7488 - acc: 0.3209 - val_loss: 1.7523 - val_acc: 0.3164\n",
            "Epoch 7/30\n",
            "20992/21000 [============================>.] - ETA: 0s - loss: 1.7206 - acc: 0.3353\n",
            "Epoch 00007: val_loss improved from 1.75229 to 1.72843, saving model to end_to_end_2.hdf5\n",
            "21000/21000 [==============================] - 28s 1ms/step - loss: 1.7205 - acc: 0.3353 - val_loss: 1.7284 - val_acc: 0.3303\n",
            "Epoch 8/30\n",
            "20992/21000 [============================>.] - ETA: 0s - loss: 1.6920 - acc: 0.3492\n",
            "Epoch 00008: val_loss improved from 1.72843 to 1.71950, saving model to end_to_end_2.hdf5\n",
            "21000/21000 [==============================] - 28s 1ms/step - loss: 1.6920 - acc: 0.3492 - val_loss: 1.7195 - val_acc: 0.3297\n",
            "Epoch 9/30\n",
            "20960/21000 [============================>.] - ETA: 0s - loss: 1.6649 - acc: 0.3621\n",
            "Epoch 00009: val_loss did not improve from 1.71950\n",
            "21000/21000 [==============================] - 28s 1ms/step - loss: 1.6650 - acc: 0.3620 - val_loss: 1.7327 - val_acc: 0.3335\n",
            "Epoch 10/30\n",
            "20960/21000 [============================>.] - ETA: 0s - loss: 1.6368 - acc: 0.3737\n",
            "Epoch 00010: val_loss did not improve from 1.71950\n",
            "21000/21000 [==============================] - 28s 1ms/step - loss: 1.6372 - acc: 0.3735 - val_loss: 1.7390 - val_acc: 0.3343\n",
            "Epoch 11/30\n",
            "20960/21000 [============================>.] - ETA: 0s - loss: 1.6105 - acc: 0.3860\n",
            "Epoch 00011: val_loss improved from 1.71950 to 1.68527, saving model to end_to_end_2.hdf5\n",
            "21000/21000 [==============================] - 28s 1ms/step - loss: 1.6105 - acc: 0.3860 - val_loss: 1.6853 - val_acc: 0.3505\n",
            "Epoch 12/30\n",
            "20960/21000 [============================>.] - ETA: 0s - loss: 1.5835 - acc: 0.3941\n",
            "Epoch 00012: val_loss improved from 1.68527 to 1.68150, saving model to end_to_end_2.hdf5\n",
            "21000/21000 [==============================] - 28s 1ms/step - loss: 1.5836 - acc: 0.3942 - val_loss: 1.6815 - val_acc: 0.3538\n",
            "Epoch 13/30\n",
            "20960/21000 [============================>.] - ETA: 0s - loss: 1.5531 - acc: 0.4085\n",
            "Epoch 00013: val_loss improved from 1.68150 to 1.67250, saving model to end_to_end_2.hdf5\n",
            "21000/21000 [==============================] - 28s 1ms/step - loss: 1.5530 - acc: 0.4084 - val_loss: 1.6725 - val_acc: 0.3603\n",
            "Epoch 14/30\n",
            "20960/21000 [============================>.] - ETA: 0s - loss: 1.5281 - acc: 0.4201\n",
            "Epoch 00014: val_loss did not improve from 1.67250\n",
            "21000/21000 [==============================] - 28s 1ms/step - loss: 1.5282 - acc: 0.4200 - val_loss: 1.6749 - val_acc: 0.3601\n",
            "Epoch 15/30\n",
            "20960/21000 [============================>.] - ETA: 0s - loss: 1.5026 - acc: 0.4281\n",
            "Epoch 00015: val_loss did not improve from 1.67250\n",
            "21000/21000 [==============================] - 28s 1ms/step - loss: 1.5025 - acc: 0.4282 - val_loss: 1.6992 - val_acc: 0.3526\n",
            "Epoch 16/30\n",
            "20992/21000 [============================>.] - ETA: 0s - loss: 1.4792 - acc: 0.4387\n",
            "Epoch 00016: val_loss did not improve from 1.67250\n",
            "21000/21000 [==============================] - 28s 1ms/step - loss: 1.4792 - acc: 0.4387 - val_loss: 1.6858 - val_acc: 0.3605\n",
            "Epoch 17/30\n",
            "20960/21000 [============================>.] - ETA: 0s - loss: 1.4570 - acc: 0.4459\n",
            "Epoch 00017: val_loss did not improve from 1.67250\n",
            "21000/21000 [==============================] - 28s 1ms/step - loss: 1.4570 - acc: 0.4459 - val_loss: 1.6889 - val_acc: 0.3586\n",
            "Epoch 18/30\n",
            "20960/21000 [============================>.] - ETA: 0s - loss: 1.4309 - acc: 0.4580\n",
            "Epoch 00018: val_loss did not improve from 1.67250\n",
            "21000/21000 [==============================] - 28s 1ms/step - loss: 1.4311 - acc: 0.4580 - val_loss: 1.7069 - val_acc: 0.3613\n",
            "Epoch 19/30\n",
            "20992/21000 [============================>.] - ETA: 0s - loss: 1.4063 - acc: 0.4703\n",
            "Epoch 00019: val_loss did not improve from 1.67250\n",
            "21000/21000 [==============================] - 28s 1ms/step - loss: 1.4062 - acc: 0.4703 - val_loss: 1.7159 - val_acc: 0.3611\n",
            "Epoch 20/30\n",
            "20992/21000 [============================>.] - ETA: 0s - loss: 1.3859 - acc: 0.4783\n",
            "Epoch 00020: val_loss did not improve from 1.67250\n",
            "21000/21000 [==============================] - 28s 1ms/step - loss: 1.3860 - acc: 0.4782 - val_loss: 1.7312 - val_acc: 0.3618\n",
            "Epoch 21/30\n",
            "20960/21000 [============================>.] - ETA: 0s - loss: 1.3648 - acc: 0.4850\n",
            "Epoch 00021: val_loss did not improve from 1.67250\n",
            "21000/21000 [==============================] - 28s 1ms/step - loss: 1.3649 - acc: 0.4850 - val_loss: 1.7242 - val_acc: 0.3623\n",
            "Epoch 22/30\n",
            "20992/21000 [============================>.] - ETA: 0s - loss: 1.3419 - acc: 0.4958\n",
            "Epoch 00022: val_loss did not improve from 1.67250\n",
            "21000/21000 [==============================] - 28s 1ms/step - loss: 1.3419 - acc: 0.4958 - val_loss: 1.7288 - val_acc: 0.3664\n",
            "Epoch 23/30\n",
            "20992/21000 [============================>.] - ETA: 0s - loss: 1.3160 - acc: 0.5050\n",
            "Epoch 00023: val_loss did not improve from 1.67250\n",
            "21000/21000 [==============================] - 28s 1ms/step - loss: 1.3160 - acc: 0.5050 - val_loss: 1.7596 - val_acc: 0.3645\n",
            "Epoch 24/30\n",
            "20992/21000 [============================>.] - ETA: 0s - loss: 1.2969 - acc: 0.5138\n",
            "Epoch 00024: val_loss did not improve from 1.67250\n",
            "21000/21000 [==============================] - 29s 1ms/step - loss: 1.2970 - acc: 0.5138 - val_loss: 1.7526 - val_acc: 0.3636\n",
            "Epoch 25/30\n",
            "20992/21000 [============================>.] - ETA: 0s - loss: 1.2760 - acc: 0.5212\n",
            "Epoch 00025: val_loss did not improve from 1.67250\n",
            "21000/21000 [==============================] - 28s 1ms/step - loss: 1.2761 - acc: 0.5212 - val_loss: 1.7739 - val_acc: 0.3684\n",
            "Epoch 26/30\n",
            "20960/21000 [============================>.] - ETA: 0s - loss: 1.2570 - acc: 0.5318\n",
            "Epoch 00026: val_loss did not improve from 1.67250\n",
            "21000/21000 [==============================] - 28s 1ms/step - loss: 1.2572 - acc: 0.5317 - val_loss: 1.8189 - val_acc: 0.3678\n",
            "Epoch 27/30\n",
            "20960/21000 [============================>.] - ETA: 0s - loss: 1.2356 - acc: 0.5402\n",
            "Epoch 00027: val_loss did not improve from 1.67250\n",
            "21000/21000 [==============================] - 28s 1ms/step - loss: 1.2357 - acc: 0.5401 - val_loss: 1.8140 - val_acc: 0.3653\n",
            "Epoch 28/30\n",
            "20960/21000 [============================>.] - ETA: 0s - loss: 1.2246 - acc: 0.5457\n",
            "Epoch 00028: val_loss did not improve from 1.67250\n",
            "21000/21000 [==============================] - 28s 1ms/step - loss: 1.2244 - acc: 0.5457 - val_loss: 1.8365 - val_acc: 0.3677\n",
            "Epoch 29/30\n",
            "20960/21000 [============================>.] - ETA: 0s - loss: 1.1933 - acc: 0.5605\n",
            "Epoch 00029: val_loss did not improve from 1.67250\n",
            "21000/21000 [==============================] - 28s 1ms/step - loss: 1.1933 - acc: 0.5606 - val_loss: 1.8794 - val_acc: 0.3660\n",
            "Epoch 30/30\n",
            "20960/21000 [============================>.] - ETA: 0s - loss: 1.1778 - acc: 0.5641\n",
            "Epoch 00030: val_loss did not improve from 1.67250\n",
            "21000/21000 [==============================] - 28s 1ms/step - loss: 1.1777 - acc: 0.5641 - val_loss: 1.8844 - val_acc: 0.3640\n"
          ],
          "name": "stdout"
        }
      ]
    },
    {
      "metadata": {
        "id": "OKS0C9gNRnj9",
        "colab_type": "text"
      },
      "cell_type": "markdown",
      "source": [
        "## Plotting\n",
        "We plot the loss and accuracy during training.\n",
        "We observed that our validation set is actually helping us. \n",
        "\n",
        "The accuracy on training grows quickly, but the one on validation stays the same. It means that we are **overfitting**."
      ]
    },
    {
      "metadata": {
        "id": "YpVNJ8AEvuJQ",
        "colab_type": "code",
        "colab": {
          "base_uri": "https://localhost:8080/",
          "height": 294
        },
        "outputId": "180efc0e-c810-4e87-d35e-8c4486af2510"
      },
      "cell_type": "code",
      "source": [
        "plot_loss()"
      ],
      "execution_count": 34,
      "outputs": [
        {
          "output_type": "display_data",
          "data": {
            "image/png": "[encoded data removed]",
            "text/plain": [
              "<matplotlib.figure.Figure at 0x7fcb8703feb8>"
            ]
          },
          "metadata": {
            "tags": []
          }
        }
      ]
    },
    {
      "metadata": {
        "id": "o6oG_iGXvwko",
        "colab_type": "code",
        "colab": {
          "base_uri": "https://localhost:8080/",
          "height": 294
        },
        "outputId": "de606691-c895-475f-af91-58c371acfece"
      },
      "cell_type": "code",
      "source": [
        "plot_acc()"
      ],
      "execution_count": 35,
      "outputs": [
        {
          "output_type": "display_data",
          "data": {
            "image/png": "[encoded data removed]",
            "text/plain": [
              "<matplotlib.figure.Figure at 0x7fcb88a59470>"
            ]
          },
          "metadata": {
            "tags": []
          }
        }
      ]
    },
    {
      "metadata": {
        "id": "aO5pboQgR_kM",
        "colab_type": "text"
      },
      "cell_type": "markdown",
      "source": [
        "## Evaluate the model\n",
        "\n",
        "We evaluate the model below, both with the network accuracy and the true accuracy."
      ]
    },
    {
      "metadata": {
        "id": "_pYC5PYCW-5N",
        "colab_type": "code",
        "colab": {
          "base_uri": "https://localhost:8080/",
          "height": 51
        },
        "outputId": "12263d69-50b0-4f66-9653-a3c0b3763327"
      },
      "cell_type": "code",
      "source": [
        "model = keras.models.load_model(\"end_to_end_2.hdf5\")\n",
        "model.evaluate(x_test, y_test)"
      ],
      "execution_count": 36,
      "outputs": [
        {
          "output_type": "stream",
          "text": [
            "3000/3000 [==============================] - 2s 828us/step\n"
          ],
          "name": "stdout"
        },
        {
          "output_type": "execute_result",
          "data": {
            "text/plain": [
              "[1.6730531657536825, 0.35566666746139525]"
            ]
          },
          "metadata": {
            "tags": []
          },
          "execution_count": 36
        }
      ]
    },
    {
      "metadata": {
        "id": "dVmszbhUXYMb",
        "colab_type": "code",
        "colab": {
          "base_uri": "https://localhost:8080/",
          "height": 34
        },
        "outputId": "7973c5d0-2ee1-4d14-a14e-ba7c6199ba84"
      },
      "cell_type": "code",
      "source": [
        "model = keras.models.load_model(\"end_to_end_2.hdf5\")\n",
        "true_acc =true_accuracy(model,x_test,y_test)\n",
        "print(\"True accuracy : {}\".format(true_acc))"
      ],
      "execution_count": 37,
      "outputs": [
        {
          "output_type": "stream",
          "text": [
            "True accuracy : 0.018666666666666668\n"
          ],
          "name": "stdout"
        }
      ]
    },
    {
      "metadata": {
        "id": "DWvxheKlSI5A",
        "colab_type": "text"
      },
      "cell_type": "markdown",
      "source": [
        "## Further improvements\n",
        "\n",
        "We can add more dropout to prevent overfitting. Overfitting may also be caused by our model being too complex.\n",
        "Also tried using **Convolutional LSTM** layers to apply the *RNN* directly on the image, but was stopped by some keras error. "
      ]
    }
  ]
}